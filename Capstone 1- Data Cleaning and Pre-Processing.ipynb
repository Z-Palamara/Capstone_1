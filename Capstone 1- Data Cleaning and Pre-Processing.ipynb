{
 "cells": [
  {
   "cell_type": "markdown",
   "metadata": {},
   "source": [
    "# Capstone 1: Airbnb Price Analysis # \n",
    "## Cleaning and Pre-Processing ##"
   ]
  },
  {
   "cell_type": "markdown",
   "metadata": {},
   "source": [
    "**Importing necessary libraries and reading in listing data**"
   ]
  },
  {
   "cell_type": "code",
   "execution_count": 1,
   "metadata": {},
   "outputs": [],
   "source": [
    "import pandas as pd\n",
    "import numpy as np\n",
    "import seaborn as sns\n",
    "from datetime import datetime as dt\n",
    "import matplotlib.pyplot as plt\n",
    "import matplotlib.mlab as mlab\n",
    "import matplotlib\n",
    "plt.style.use('ggplot')\n",
    "from matplotlib.pyplot import figure\n",
    "\n",
    "%matplotlib inline\n",
    "matplotlib.rcParams['figure.figsize'] = (12,8)\n",
    "\n",
    "pd.options.mode.chained_assignment = None"
   ]
  },
  {
   "cell_type": "code",
   "execution_count": 2,
   "metadata": {},
   "outputs": [],
   "source": [
    "df = pd.read_csv('listings.csv', index_col='id', low_memory=False)\n",
    "pd.set_option('display.max_columns', len(df.columns))"
   ]
  },
  {
   "cell_type": "code",
   "execution_count": 3,
   "metadata": {},
   "outputs": [
    {
     "data": {
      "text/html": [
       "<div>\n",
       "<style scoped>\n",
       "    .dataframe tbody tr th:only-of-type {\n",
       "        vertical-align: middle;\n",
       "    }\n",
       "\n",
       "    .dataframe tbody tr th {\n",
       "        vertical-align: top;\n",
       "    }\n",
       "\n",
       "    .dataframe thead th {\n",
       "        text-align: right;\n",
       "    }\n",
       "</style>\n",
       "<table border=\"1\" class=\"dataframe\">\n",
       "  <thead>\n",
       "    <tr style=\"text-align: right;\">\n",
       "      <th></th>\n",
       "      <th>listing_url</th>\n",
       "      <th>scrape_id</th>\n",
       "      <th>last_scraped</th>\n",
       "      <th>name</th>\n",
       "      <th>summary</th>\n",
       "      <th>space</th>\n",
       "      <th>description</th>\n",
       "      <th>experiences_offered</th>\n",
       "      <th>neighborhood_overview</th>\n",
       "      <th>notes</th>\n",
       "      <th>transit</th>\n",
       "      <th>access</th>\n",
       "      <th>interaction</th>\n",
       "      <th>house_rules</th>\n",
       "      <th>thumbnail_url</th>\n",
       "      <th>medium_url</th>\n",
       "      <th>picture_url</th>\n",
       "      <th>xl_picture_url</th>\n",
       "      <th>host_id</th>\n",
       "      <th>host_url</th>\n",
       "      <th>host_name</th>\n",
       "      <th>host_since</th>\n",
       "      <th>host_location</th>\n",
       "      <th>host_about</th>\n",
       "      <th>host_response_time</th>\n",
       "      <th>host_response_rate</th>\n",
       "      <th>host_acceptance_rate</th>\n",
       "      <th>host_is_superhost</th>\n",
       "      <th>host_thumbnail_url</th>\n",
       "      <th>host_picture_url</th>\n",
       "      <th>host_neighbourhood</th>\n",
       "      <th>host_listings_count</th>\n",
       "      <th>host_total_listings_count</th>\n",
       "      <th>host_verifications</th>\n",
       "      <th>host_has_profile_pic</th>\n",
       "      <th>host_identity_verified</th>\n",
       "      <th>street</th>\n",
       "      <th>neighbourhood</th>\n",
       "      <th>neighbourhood_cleansed</th>\n",
       "      <th>neighbourhood_group_cleansed</th>\n",
       "      <th>city</th>\n",
       "      <th>state</th>\n",
       "      <th>zipcode</th>\n",
       "      <th>market</th>\n",
       "      <th>smart_location</th>\n",
       "      <th>country_code</th>\n",
       "      <th>country</th>\n",
       "      <th>latitude</th>\n",
       "      <th>longitude</th>\n",
       "      <th>is_location_exact</th>\n",
       "      <th>property_type</th>\n",
       "      <th>room_type</th>\n",
       "      <th>accommodates</th>\n",
       "      <th>bathrooms</th>\n",
       "      <th>bedrooms</th>\n",
       "      <th>beds</th>\n",
       "      <th>bed_type</th>\n",
       "      <th>amenities</th>\n",
       "      <th>square_feet</th>\n",
       "      <th>price</th>\n",
       "      <th>weekly_price</th>\n",
       "      <th>monthly_price</th>\n",
       "      <th>security_deposit</th>\n",
       "      <th>cleaning_fee</th>\n",
       "      <th>guests_included</th>\n",
       "      <th>extra_people</th>\n",
       "      <th>minimum_nights</th>\n",
       "      <th>maximum_nights</th>\n",
       "      <th>minimum_minimum_nights</th>\n",
       "      <th>maximum_minimum_nights</th>\n",
       "      <th>minimum_maximum_nights</th>\n",
       "      <th>maximum_maximum_nights</th>\n",
       "      <th>minimum_nights_avg_ntm</th>\n",
       "      <th>maximum_nights_avg_ntm</th>\n",
       "      <th>calendar_updated</th>\n",
       "      <th>has_availability</th>\n",
       "      <th>availability_30</th>\n",
       "      <th>availability_60</th>\n",
       "      <th>availability_90</th>\n",
       "      <th>availability_365</th>\n",
       "      <th>calendar_last_scraped</th>\n",
       "      <th>number_of_reviews</th>\n",
       "      <th>number_of_reviews_ltm</th>\n",
       "      <th>first_review</th>\n",
       "      <th>last_review</th>\n",
       "      <th>review_scores_rating</th>\n",
       "      <th>review_scores_accuracy</th>\n",
       "      <th>review_scores_cleanliness</th>\n",
       "      <th>review_scores_checkin</th>\n",
       "      <th>review_scores_communication</th>\n",
       "      <th>review_scores_location</th>\n",
       "      <th>review_scores_value</th>\n",
       "      <th>requires_license</th>\n",
       "      <th>license</th>\n",
       "      <th>jurisdiction_names</th>\n",
       "      <th>instant_bookable</th>\n",
       "      <th>is_business_travel_ready</th>\n",
       "      <th>cancellation_policy</th>\n",
       "      <th>require_guest_profile_picture</th>\n",
       "      <th>require_guest_phone_verification</th>\n",
       "      <th>calculated_host_listings_count</th>\n",
       "      <th>calculated_host_listings_count_entire_homes</th>\n",
       "      <th>calculated_host_listings_count_private_rooms</th>\n",
       "      <th>calculated_host_listings_count_shared_rooms</th>\n",
       "      <th>reviews_per_month</th>\n",
       "    </tr>\n",
       "    <tr>\n",
       "      <th>id</th>\n",
       "      <th></th>\n",
       "      <th></th>\n",
       "      <th></th>\n",
       "      <th></th>\n",
       "      <th></th>\n",
       "      <th></th>\n",
       "      <th></th>\n",
       "      <th></th>\n",
       "      <th></th>\n",
       "      <th></th>\n",
       "      <th></th>\n",
       "      <th></th>\n",
       "      <th></th>\n",
       "      <th></th>\n",
       "      <th></th>\n",
       "      <th></th>\n",
       "      <th></th>\n",
       "      <th></th>\n",
       "      <th></th>\n",
       "      <th></th>\n",
       "      <th></th>\n",
       "      <th></th>\n",
       "      <th></th>\n",
       "      <th></th>\n",
       "      <th></th>\n",
       "      <th></th>\n",
       "      <th></th>\n",
       "      <th></th>\n",
       "      <th></th>\n",
       "      <th></th>\n",
       "      <th></th>\n",
       "      <th></th>\n",
       "      <th></th>\n",
       "      <th></th>\n",
       "      <th></th>\n",
       "      <th></th>\n",
       "      <th></th>\n",
       "      <th></th>\n",
       "      <th></th>\n",
       "      <th></th>\n",
       "      <th></th>\n",
       "      <th></th>\n",
       "      <th></th>\n",
       "      <th></th>\n",
       "      <th></th>\n",
       "      <th></th>\n",
       "      <th></th>\n",
       "      <th></th>\n",
       "      <th></th>\n",
       "      <th></th>\n",
       "      <th></th>\n",
       "      <th></th>\n",
       "      <th></th>\n",
       "      <th></th>\n",
       "      <th></th>\n",
       "      <th></th>\n",
       "      <th></th>\n",
       "      <th></th>\n",
       "      <th></th>\n",
       "      <th></th>\n",
       "      <th></th>\n",
       "      <th></th>\n",
       "      <th></th>\n",
       "      <th></th>\n",
       "      <th></th>\n",
       "      <th></th>\n",
       "      <th></th>\n",
       "      <th></th>\n",
       "      <th></th>\n",
       "      <th></th>\n",
       "      <th></th>\n",
       "      <th></th>\n",
       "      <th></th>\n",
       "      <th></th>\n",
       "      <th></th>\n",
       "      <th></th>\n",
       "      <th></th>\n",
       "      <th></th>\n",
       "      <th></th>\n",
       "      <th></th>\n",
       "      <th></th>\n",
       "      <th></th>\n",
       "      <th></th>\n",
       "      <th></th>\n",
       "      <th></th>\n",
       "      <th></th>\n",
       "      <th></th>\n",
       "      <th></th>\n",
       "      <th></th>\n",
       "      <th></th>\n",
       "      <th></th>\n",
       "      <th></th>\n",
       "      <th></th>\n",
       "      <th></th>\n",
       "      <th></th>\n",
       "      <th></th>\n",
       "      <th></th>\n",
       "      <th></th>\n",
       "      <th></th>\n",
       "      <th></th>\n",
       "      <th></th>\n",
       "      <th></th>\n",
       "      <th></th>\n",
       "      <th></th>\n",
       "      <th></th>\n",
       "    </tr>\n",
       "  </thead>\n",
       "  <tbody>\n",
       "    <tr>\n",
       "      <th>2265</th>\n",
       "      <td>https://www.airbnb.com/rooms/2265</td>\n",
       "      <td>20200219033646</td>\n",
       "      <td>2020-02-19</td>\n",
       "      <td>Zen-East in the Heart of Austin (monthly rental)</td>\n",
       "      <td>Zen East is situated in a vibrant &amp; diverse mu...</td>\n",
       "      <td>This colorful and clean 1923 house was complet...</td>\n",
       "      <td>Zen East is situated in a vibrant &amp; diverse mu...</td>\n",
       "      <td>none</td>\n",
       "      <td>NaN</td>\n",
       "      <td>A 2013 Genuine Buddy Scooter 125 may be availa...</td>\n",
       "      <td>5 min walk to Capitol Metro Rail (train that t...</td>\n",
       "      <td>Several local restaurants, small clubs, music ...</td>\n",
       "      <td>Depending on your dates and arrival time, I am...</td>\n",
       "      <td>• Check-in time is 4 pm. Check out is 11 am. I...</td>\n",
       "      <td>NaN</td>\n",
       "      <td>NaN</td>\n",
       "      <td>https://a0.muscache.com/im/pictures/4740524/63...</td>\n",
       "      <td>NaN</td>\n",
       "      <td>2466</td>\n",
       "      <td>https://www.airbnb.com/users/show/2466</td>\n",
       "      <td>Paddy</td>\n",
       "      <td>2008-08-23</td>\n",
       "      <td>Austin, Texas, United States</td>\n",
       "      <td>I am a long time resident of Austin. I earned ...</td>\n",
       "      <td>within a few hours</td>\n",
       "      <td>100%</td>\n",
       "      <td>100%</td>\n",
       "      <td>t</td>\n",
       "      <td>https://a0.muscache.com/im/users/2466/profile_...</td>\n",
       "      <td>https://a0.muscache.com/im/users/2466/profile_...</td>\n",
       "      <td>East Downtown</td>\n",
       "      <td>3.0</td>\n",
       "      <td>3.0</td>\n",
       "      <td>['email', 'phone', 'facebook', 'reviews', 'kba']</td>\n",
       "      <td>t</td>\n",
       "      <td>t</td>\n",
       "      <td>Austin, TX, United States</td>\n",
       "      <td>East Downtown</td>\n",
       "      <td>78702</td>\n",
       "      <td>NaN</td>\n",
       "      <td>Austin</td>\n",
       "      <td>TX</td>\n",
       "      <td>78702</td>\n",
       "      <td>Austin</td>\n",
       "      <td>Austin, TX</td>\n",
       "      <td>US</td>\n",
       "      <td>United States</td>\n",
       "      <td>30.27750</td>\n",
       "      <td>-97.71398</td>\n",
       "      <td>f</td>\n",
       "      <td>House</td>\n",
       "      <td>Entire home/apt</td>\n",
       "      <td>4</td>\n",
       "      <td>2.0</td>\n",
       "      <td>2.0</td>\n",
       "      <td>2.0</td>\n",
       "      <td>Real Bed</td>\n",
       "      <td>{TV,\"Cable TV\",Internet,Wifi,\"Air conditioning...</td>\n",
       "      <td>NaN</td>\n",
       "      <td>$225.00</td>\n",
       "      <td>NaN</td>\n",
       "      <td>NaN</td>\n",
       "      <td>$500.00</td>\n",
       "      <td>$100.00</td>\n",
       "      <td>4</td>\n",
       "      <td>$30.00</td>\n",
       "      <td>30</td>\n",
       "      <td>90</td>\n",
       "      <td>30</td>\n",
       "      <td>30</td>\n",
       "      <td>90</td>\n",
       "      <td>90</td>\n",
       "      <td>30.0</td>\n",
       "      <td>90.0</td>\n",
       "      <td>7 months ago</td>\n",
       "      <td>t</td>\n",
       "      <td>0</td>\n",
       "      <td>0</td>\n",
       "      <td>0</td>\n",
       "      <td>0</td>\n",
       "      <td>2020-02-19</td>\n",
       "      <td>24</td>\n",
       "      <td>1</td>\n",
       "      <td>2009-03-17</td>\n",
       "      <td>2019-03-16</td>\n",
       "      <td>93.0</td>\n",
       "      <td>9.0</td>\n",
       "      <td>10.0</td>\n",
       "      <td>10.0</td>\n",
       "      <td>10.0</td>\n",
       "      <td>8.0</td>\n",
       "      <td>9.0</td>\n",
       "      <td>f</td>\n",
       "      <td>NaN</td>\n",
       "      <td>{\"Texas State\"}</td>\n",
       "      <td>f</td>\n",
       "      <td>f</td>\n",
       "      <td>strict_14_with_grace_period</td>\n",
       "      <td>f</td>\n",
       "      <td>f</td>\n",
       "      <td>3</td>\n",
       "      <td>2</td>\n",
       "      <td>1</td>\n",
       "      <td>0</td>\n",
       "      <td>0.18</td>\n",
       "    </tr>\n",
       "    <tr>\n",
       "      <th>5245</th>\n",
       "      <td>https://www.airbnb.com/rooms/5245</td>\n",
       "      <td>20200219033646</td>\n",
       "      <td>2020-02-19</td>\n",
       "      <td>Eco friendly, Colorful, Clean, Cozy monthly share</td>\n",
       "      <td>Situated in a vibrant &amp; diverse multicultural ...</td>\n",
       "      <td>This green, colorful, clean and cozy house was...</td>\n",
       "      <td>Situated in a vibrant &amp; diverse multicultural ...</td>\n",
       "      <td>none</td>\n",
       "      <td>NaN</td>\n",
       "      <td>Please note: A two story studio was built in t...</td>\n",
       "      <td>NaN</td>\n",
       "      <td>NaN</td>\n",
       "      <td>I should be available, upon your arrival, to a...</td>\n",
       "      <td>A brief profile for all guests along with phot...</td>\n",
       "      <td>NaN</td>\n",
       "      <td>NaN</td>\n",
       "      <td>https://a0.muscache.com/im/pictures/5167505/b3...</td>\n",
       "      <td>NaN</td>\n",
       "      <td>2466</td>\n",
       "      <td>https://www.airbnb.com/users/show/2466</td>\n",
       "      <td>Paddy</td>\n",
       "      <td>2008-08-23</td>\n",
       "      <td>Austin, Texas, United States</td>\n",
       "      <td>I am a long time resident of Austin. I earned ...</td>\n",
       "      <td>within a few hours</td>\n",
       "      <td>100%</td>\n",
       "      <td>100%</td>\n",
       "      <td>t</td>\n",
       "      <td>https://a0.muscache.com/im/users/2466/profile_...</td>\n",
       "      <td>https://a0.muscache.com/im/users/2466/profile_...</td>\n",
       "      <td>East Downtown</td>\n",
       "      <td>3.0</td>\n",
       "      <td>3.0</td>\n",
       "      <td>['email', 'phone', 'facebook', 'reviews', 'kba']</td>\n",
       "      <td>t</td>\n",
       "      <td>t</td>\n",
       "      <td>Austin, TX, United States</td>\n",
       "      <td>East Downtown</td>\n",
       "      <td>78702</td>\n",
       "      <td>NaN</td>\n",
       "      <td>Austin</td>\n",
       "      <td>TX</td>\n",
       "      <td>78702</td>\n",
       "      <td>Austin</td>\n",
       "      <td>Austin, TX</td>\n",
       "      <td>US</td>\n",
       "      <td>United States</td>\n",
       "      <td>30.27577</td>\n",
       "      <td>-97.71379</td>\n",
       "      <td>t</td>\n",
       "      <td>House</td>\n",
       "      <td>Private room</td>\n",
       "      <td>2</td>\n",
       "      <td>1.0</td>\n",
       "      <td>1.0</td>\n",
       "      <td>2.0</td>\n",
       "      <td>Real Bed</td>\n",
       "      <td>{TV,\"Cable TV\",Internet,Wifi,\"Air conditioning...</td>\n",
       "      <td>NaN</td>\n",
       "      <td>$100.00</td>\n",
       "      <td>NaN</td>\n",
       "      <td>NaN</td>\n",
       "      <td>$500.00</td>\n",
       "      <td>$75.00</td>\n",
       "      <td>2</td>\n",
       "      <td>$35.00</td>\n",
       "      <td>30</td>\n",
       "      <td>60</td>\n",
       "      <td>30</td>\n",
       "      <td>30</td>\n",
       "      <td>60</td>\n",
       "      <td>60</td>\n",
       "      <td>30.0</td>\n",
       "      <td>60.0</td>\n",
       "      <td>8 months ago</td>\n",
       "      <td>t</td>\n",
       "      <td>0</td>\n",
       "      <td>0</td>\n",
       "      <td>0</td>\n",
       "      <td>0</td>\n",
       "      <td>2020-02-19</td>\n",
       "      <td>9</td>\n",
       "      <td>0</td>\n",
       "      <td>2009-03-19</td>\n",
       "      <td>2018-03-14</td>\n",
       "      <td>91.0</td>\n",
       "      <td>10.0</td>\n",
       "      <td>8.0</td>\n",
       "      <td>10.0</td>\n",
       "      <td>9.0</td>\n",
       "      <td>10.0</td>\n",
       "      <td>9.0</td>\n",
       "      <td>f</td>\n",
       "      <td>NaN</td>\n",
       "      <td>{\"Texas State\"}</td>\n",
       "      <td>f</td>\n",
       "      <td>f</td>\n",
       "      <td>strict_14_with_grace_period</td>\n",
       "      <td>f</td>\n",
       "      <td>f</td>\n",
       "      <td>3</td>\n",
       "      <td>2</td>\n",
       "      <td>1</td>\n",
       "      <td>0</td>\n",
       "      <td>0.07</td>\n",
       "    </tr>\n",
       "    <tr>\n",
       "      <th>5456</th>\n",
       "      <td>https://www.airbnb.com/rooms/5456</td>\n",
       "      <td>20200219033646</td>\n",
       "      <td>2020-02-19</td>\n",
       "      <td>Walk to 6th, Rainey St and Convention Ctr</td>\n",
       "      <td>Great central  location for walking to Convent...</td>\n",
       "      <td>Cute Private Studio apartment located in Willo...</td>\n",
       "      <td>Great central  location for walking to Convent...</td>\n",
       "      <td>none</td>\n",
       "      <td>My neighborhood is ideally located if you want...</td>\n",
       "      <td>Parking on street requires a permit.  Permits ...</td>\n",
       "      <td>Bus stop around the block.  Uber, Lyft, Ride, ...</td>\n",
       "      <td>Guests have access to yard and patio.</td>\n",
       "      <td>I am happy to welcome my guests and show them in.</td>\n",
       "      <td>No Pets allowed.  No smoking in the room. No m...</td>\n",
       "      <td>NaN</td>\n",
       "      <td>NaN</td>\n",
       "      <td>https://a0.muscache.com/im/pictures/14084884/b...</td>\n",
       "      <td>NaN</td>\n",
       "      <td>8028</td>\n",
       "      <td>https://www.airbnb.com/users/show/8028</td>\n",
       "      <td>Sylvia</td>\n",
       "      <td>2009-02-16</td>\n",
       "      <td>Austin, Texas, United States</td>\n",
       "      <td>I am a licensed Real Estate Broker and owner o...</td>\n",
       "      <td>within a few hours</td>\n",
       "      <td>100%</td>\n",
       "      <td>98%</td>\n",
       "      <td>t</td>\n",
       "      <td>https://a0.muscache.com/im/users/8028/profile_...</td>\n",
       "      <td>https://a0.muscache.com/im/users/8028/profile_...</td>\n",
       "      <td>East Downtown</td>\n",
       "      <td>1.0</td>\n",
       "      <td>1.0</td>\n",
       "      <td>['email', 'phone', 'reviews', 'kba']</td>\n",
       "      <td>t</td>\n",
       "      <td>t</td>\n",
       "      <td>Austin, TX, United States</td>\n",
       "      <td>East Downtown</td>\n",
       "      <td>78702</td>\n",
       "      <td>NaN</td>\n",
       "      <td>Austin</td>\n",
       "      <td>TX</td>\n",
       "      <td>78702</td>\n",
       "      <td>Austin</td>\n",
       "      <td>Austin, TX</td>\n",
       "      <td>US</td>\n",
       "      <td>United States</td>\n",
       "      <td>30.26112</td>\n",
       "      <td>-97.73448</td>\n",
       "      <td>t</td>\n",
       "      <td>Guesthouse</td>\n",
       "      <td>Entire home/apt</td>\n",
       "      <td>3</td>\n",
       "      <td>1.0</td>\n",
       "      <td>1.0</td>\n",
       "      <td>2.0</td>\n",
       "      <td>Real Bed</td>\n",
       "      <td>{TV,Wifi,\"Air conditioning\",Kitchen,\"Pets live...</td>\n",
       "      <td>NaN</td>\n",
       "      <td>$95.00</td>\n",
       "      <td>NaN</td>\n",
       "      <td>NaN</td>\n",
       "      <td>$100.00</td>\n",
       "      <td>NaN</td>\n",
       "      <td>2</td>\n",
       "      <td>$45.00</td>\n",
       "      <td>2</td>\n",
       "      <td>90</td>\n",
       "      <td>2</td>\n",
       "      <td>2</td>\n",
       "      <td>90</td>\n",
       "      <td>90</td>\n",
       "      <td>2.0</td>\n",
       "      <td>90.0</td>\n",
       "      <td>4 days ago</td>\n",
       "      <td>t</td>\n",
       "      <td>15</td>\n",
       "      <td>33</td>\n",
       "      <td>54</td>\n",
       "      <td>323</td>\n",
       "      <td>2020-02-19</td>\n",
       "      <td>522</td>\n",
       "      <td>51</td>\n",
       "      <td>2009-03-08</td>\n",
       "      <td>2020-01-29</td>\n",
       "      <td>97.0</td>\n",
       "      <td>10.0</td>\n",
       "      <td>10.0</td>\n",
       "      <td>10.0</td>\n",
       "      <td>10.0</td>\n",
       "      <td>10.0</td>\n",
       "      <td>10.0</td>\n",
       "      <td>f</td>\n",
       "      <td>NaN</td>\n",
       "      <td>{\"Texas State\"}</td>\n",
       "      <td>f</td>\n",
       "      <td>f</td>\n",
       "      <td>strict_14_with_grace_period</td>\n",
       "      <td>f</td>\n",
       "      <td>t</td>\n",
       "      <td>1</td>\n",
       "      <td>1</td>\n",
       "      <td>0</td>\n",
       "      <td>0</td>\n",
       "      <td>3.91</td>\n",
       "    </tr>\n",
       "  </tbody>\n",
       "</table>\n",
       "</div>"
      ],
      "text/plain": [
       "                            listing_url       scrape_id last_scraped  \\\n",
       "id                                                                     \n",
       "2265  https://www.airbnb.com/rooms/2265  20200219033646   2020-02-19   \n",
       "5245  https://www.airbnb.com/rooms/5245  20200219033646   2020-02-19   \n",
       "5456  https://www.airbnb.com/rooms/5456  20200219033646   2020-02-19   \n",
       "\n",
       "                                                   name  \\\n",
       "id                                                        \n",
       "2265   Zen-East in the Heart of Austin (monthly rental)   \n",
       "5245  Eco friendly, Colorful, Clean, Cozy monthly share   \n",
       "5456          Walk to 6th, Rainey St and Convention Ctr   \n",
       "\n",
       "                                                summary  \\\n",
       "id                                                        \n",
       "2265  Zen East is situated in a vibrant & diverse mu...   \n",
       "5245  Situated in a vibrant & diverse multicultural ...   \n",
       "5456  Great central  location for walking to Convent...   \n",
       "\n",
       "                                                  space  \\\n",
       "id                                                        \n",
       "2265  This colorful and clean 1923 house was complet...   \n",
       "5245  This green, colorful, clean and cozy house was...   \n",
       "5456  Cute Private Studio apartment located in Willo...   \n",
       "\n",
       "                                            description experiences_offered  \\\n",
       "id                                                                            \n",
       "2265  Zen East is situated in a vibrant & diverse mu...                none   \n",
       "5245  Situated in a vibrant & diverse multicultural ...                none   \n",
       "5456  Great central  location for walking to Convent...                none   \n",
       "\n",
       "                                  neighborhood_overview  \\\n",
       "id                                                        \n",
       "2265                                                NaN   \n",
       "5245                                                NaN   \n",
       "5456  My neighborhood is ideally located if you want...   \n",
       "\n",
       "                                                  notes  \\\n",
       "id                                                        \n",
       "2265  A 2013 Genuine Buddy Scooter 125 may be availa...   \n",
       "5245  Please note: A two story studio was built in t...   \n",
       "5456  Parking on street requires a permit.  Permits ...   \n",
       "\n",
       "                                                transit  \\\n",
       "id                                                        \n",
       "2265  5 min walk to Capitol Metro Rail (train that t...   \n",
       "5245                                                NaN   \n",
       "5456  Bus stop around the block.  Uber, Lyft, Ride, ...   \n",
       "\n",
       "                                                 access  \\\n",
       "id                                                        \n",
       "2265  Several local restaurants, small clubs, music ...   \n",
       "5245                                                NaN   \n",
       "5456              Guests have access to yard and patio.   \n",
       "\n",
       "                                            interaction  \\\n",
       "id                                                        \n",
       "2265  Depending on your dates and arrival time, I am...   \n",
       "5245  I should be available, upon your arrival, to a...   \n",
       "5456  I am happy to welcome my guests and show them in.   \n",
       "\n",
       "                                            house_rules  thumbnail_url  \\\n",
       "id                                                                       \n",
       "2265  • Check-in time is 4 pm. Check out is 11 am. I...            NaN   \n",
       "5245  A brief profile for all guests along with phot...            NaN   \n",
       "5456  No Pets allowed.  No smoking in the room. No m...            NaN   \n",
       "\n",
       "      medium_url                                        picture_url  \\\n",
       "id                                                                    \n",
       "2265         NaN  https://a0.muscache.com/im/pictures/4740524/63...   \n",
       "5245         NaN  https://a0.muscache.com/im/pictures/5167505/b3...   \n",
       "5456         NaN  https://a0.muscache.com/im/pictures/14084884/b...   \n",
       "\n",
       "      xl_picture_url  host_id                                host_url  \\\n",
       "id                                                                      \n",
       "2265             NaN     2466  https://www.airbnb.com/users/show/2466   \n",
       "5245             NaN     2466  https://www.airbnb.com/users/show/2466   \n",
       "5456             NaN     8028  https://www.airbnb.com/users/show/8028   \n",
       "\n",
       "     host_name  host_since                 host_location  \\\n",
       "id                                                         \n",
       "2265     Paddy  2008-08-23  Austin, Texas, United States   \n",
       "5245     Paddy  2008-08-23  Austin, Texas, United States   \n",
       "5456    Sylvia  2009-02-16  Austin, Texas, United States   \n",
       "\n",
       "                                             host_about  host_response_time  \\\n",
       "id                                                                            \n",
       "2265  I am a long time resident of Austin. I earned ...  within a few hours   \n",
       "5245  I am a long time resident of Austin. I earned ...  within a few hours   \n",
       "5456  I am a licensed Real Estate Broker and owner o...  within a few hours   \n",
       "\n",
       "     host_response_rate host_acceptance_rate host_is_superhost  \\\n",
       "id                                                               \n",
       "2265               100%                 100%                 t   \n",
       "5245               100%                 100%                 t   \n",
       "5456               100%                  98%                 t   \n",
       "\n",
       "                                     host_thumbnail_url  \\\n",
       "id                                                        \n",
       "2265  https://a0.muscache.com/im/users/2466/profile_...   \n",
       "5245  https://a0.muscache.com/im/users/2466/profile_...   \n",
       "5456  https://a0.muscache.com/im/users/8028/profile_...   \n",
       "\n",
       "                                       host_picture_url host_neighbourhood  \\\n",
       "id                                                                           \n",
       "2265  https://a0.muscache.com/im/users/2466/profile_...      East Downtown   \n",
       "5245  https://a0.muscache.com/im/users/2466/profile_...      East Downtown   \n",
       "5456  https://a0.muscache.com/im/users/8028/profile_...      East Downtown   \n",
       "\n",
       "      host_listings_count  host_total_listings_count  \\\n",
       "id                                                     \n",
       "2265                  3.0                        3.0   \n",
       "5245                  3.0                        3.0   \n",
       "5456                  1.0                        1.0   \n",
       "\n",
       "                                    host_verifications host_has_profile_pic  \\\n",
       "id                                                                            \n",
       "2265  ['email', 'phone', 'facebook', 'reviews', 'kba']                    t   \n",
       "5245  ['email', 'phone', 'facebook', 'reviews', 'kba']                    t   \n",
       "5456              ['email', 'phone', 'reviews', 'kba']                    t   \n",
       "\n",
       "     host_identity_verified                     street  neighbourhood  \\\n",
       "id                                                                      \n",
       "2265                      t  Austin, TX, United States  East Downtown   \n",
       "5245                      t  Austin, TX, United States  East Downtown   \n",
       "5456                      t  Austin, TX, United States  East Downtown   \n",
       "\n",
       "      neighbourhood_cleansed  neighbourhood_group_cleansed    city state  \\\n",
       "id                                                                         \n",
       "2265                   78702                           NaN  Austin    TX   \n",
       "5245                   78702                           NaN  Austin    TX   \n",
       "5456                   78702                           NaN  Austin    TX   \n",
       "\n",
       "     zipcode  market smart_location country_code        country  latitude  \\\n",
       "id                                                                          \n",
       "2265   78702  Austin     Austin, TX           US  United States  30.27750   \n",
       "5245   78702  Austin     Austin, TX           US  United States  30.27577   \n",
       "5456   78702  Austin     Austin, TX           US  United States  30.26112   \n",
       "\n",
       "      longitude is_location_exact property_type        room_type  \\\n",
       "id                                                                 \n",
       "2265  -97.71398                 f         House  Entire home/apt   \n",
       "5245  -97.71379                 t         House     Private room   \n",
       "5456  -97.73448                 t    Guesthouse  Entire home/apt   \n",
       "\n",
       "      accommodates  bathrooms  bedrooms  beds  bed_type  \\\n",
       "id                                                        \n",
       "2265             4        2.0       2.0   2.0  Real Bed   \n",
       "5245             2        1.0       1.0   2.0  Real Bed   \n",
       "5456             3        1.0       1.0   2.0  Real Bed   \n",
       "\n",
       "                                              amenities  square_feet    price  \\\n",
       "id                                                                              \n",
       "2265  {TV,\"Cable TV\",Internet,Wifi,\"Air conditioning...          NaN  $225.00   \n",
       "5245  {TV,\"Cable TV\",Internet,Wifi,\"Air conditioning...          NaN  $100.00   \n",
       "5456  {TV,Wifi,\"Air conditioning\",Kitchen,\"Pets live...          NaN   $95.00   \n",
       "\n",
       "     weekly_price monthly_price security_deposit cleaning_fee  \\\n",
       "id                                                              \n",
       "2265          NaN           NaN          $500.00      $100.00   \n",
       "5245          NaN           NaN          $500.00       $75.00   \n",
       "5456          NaN           NaN          $100.00          NaN   \n",
       "\n",
       "      guests_included extra_people  minimum_nights  maximum_nights  \\\n",
       "id                                                                   \n",
       "2265                4       $30.00              30              90   \n",
       "5245                2       $35.00              30              60   \n",
       "5456                2       $45.00               2              90   \n",
       "\n",
       "      minimum_minimum_nights  maximum_minimum_nights  minimum_maximum_nights  \\\n",
       "id                                                                             \n",
       "2265                      30                      30                      90   \n",
       "5245                      30                      30                      60   \n",
       "5456                       2                       2                      90   \n",
       "\n",
       "      maximum_maximum_nights  minimum_nights_avg_ntm  maximum_nights_avg_ntm  \\\n",
       "id                                                                             \n",
       "2265                      90                    30.0                    90.0   \n",
       "5245                      60                    30.0                    60.0   \n",
       "5456                      90                     2.0                    90.0   \n",
       "\n",
       "     calendar_updated has_availability  availability_30  availability_60  \\\n",
       "id                                                                         \n",
       "2265     7 months ago                t                0                0   \n",
       "5245     8 months ago                t                0                0   \n",
       "5456       4 days ago                t               15               33   \n",
       "\n",
       "      availability_90  availability_365 calendar_last_scraped  \\\n",
       "id                                                              \n",
       "2265                0                 0            2020-02-19   \n",
       "5245                0                 0            2020-02-19   \n",
       "5456               54               323            2020-02-19   \n",
       "\n",
       "      number_of_reviews  number_of_reviews_ltm first_review last_review  \\\n",
       "id                                                                        \n",
       "2265                 24                      1   2009-03-17  2019-03-16   \n",
       "5245                  9                      0   2009-03-19  2018-03-14   \n",
       "5456                522                     51   2009-03-08  2020-01-29   \n",
       "\n",
       "      review_scores_rating  review_scores_accuracy  review_scores_cleanliness  \\\n",
       "id                                                                              \n",
       "2265                  93.0                     9.0                       10.0   \n",
       "5245                  91.0                    10.0                        8.0   \n",
       "5456                  97.0                    10.0                       10.0   \n",
       "\n",
       "      review_scores_checkin  review_scores_communication  \\\n",
       "id                                                         \n",
       "2265                   10.0                         10.0   \n",
       "5245                   10.0                          9.0   \n",
       "5456                   10.0                         10.0   \n",
       "\n",
       "      review_scores_location  review_scores_value requires_license license  \\\n",
       "id                                                                           \n",
       "2265                     8.0                  9.0                f     NaN   \n",
       "5245                    10.0                  9.0                f     NaN   \n",
       "5456                    10.0                 10.0                f     NaN   \n",
       "\n",
       "     jurisdiction_names instant_bookable is_business_travel_ready  \\\n",
       "id                                                                  \n",
       "2265    {\"Texas State\"}                f                        f   \n",
       "5245    {\"Texas State\"}                f                        f   \n",
       "5456    {\"Texas State\"}                f                        f   \n",
       "\n",
       "              cancellation_policy require_guest_profile_picture  \\\n",
       "id                                                                \n",
       "2265  strict_14_with_grace_period                             f   \n",
       "5245  strict_14_with_grace_period                             f   \n",
       "5456  strict_14_with_grace_period                             f   \n",
       "\n",
       "     require_guest_phone_verification  calculated_host_listings_count  \\\n",
       "id                                                                      \n",
       "2265                                f                               3   \n",
       "5245                                f                               3   \n",
       "5456                                t                               1   \n",
       "\n",
       "      calculated_host_listings_count_entire_homes  \\\n",
       "id                                                  \n",
       "2265                                            2   \n",
       "5245                                            2   \n",
       "5456                                            1   \n",
       "\n",
       "      calculated_host_listings_count_private_rooms  \\\n",
       "id                                                   \n",
       "2265                                             1   \n",
       "5245                                             1   \n",
       "5456                                             0   \n",
       "\n",
       "      calculated_host_listings_count_shared_rooms  reviews_per_month  \n",
       "id                                                                    \n",
       "2265                                            0               0.18  \n",
       "5245                                            0               0.07  \n",
       "5456                                            0               3.91  "
      ]
     },
     "execution_count": 3,
     "metadata": {},
     "output_type": "execute_result"
    }
   ],
   "source": [
    "df.sort_index(inplace=True)\n",
    "df.head(3)"
   ]
  },
  {
   "cell_type": "markdown",
   "metadata": {},
   "source": [
    "I noticed that there's some columns that use 't' or 'f' for True and False. I will convert those to 1 and 0 respectively to become more Pythonic."
   ]
  },
  {
   "cell_type": "code",
   "execution_count": 4,
   "metadata": {},
   "outputs": [],
   "source": [
    "# Replacing columns with f/t with 0/1\n",
    "df.replace({'f': 0, 't': 1}, inplace=True)"
   ]
  },
  {
   "cell_type": "markdown",
   "metadata": {},
   "source": [
    "Saving the latitude and longitude coordinate columns into a new df to use for later."
   ]
  },
  {
   "cell_type": "code",
   "execution_count": 5,
   "metadata": {},
   "outputs": [],
   "source": [
    "coordinates = df[['latitude','longitude']]"
   ]
  },
  {
   "cell_type": "code",
   "execution_count": 6,
   "metadata": {},
   "outputs": [],
   "source": [
    "drop_cols = ['listing_url', 'scrape_id', 'last_scraped', 'name', 'summary', 'space', 'description', 'neighborhood_overview', 'notes', 'transit', 'access', 'interaction', 'house_rules', 'thumbnail_url', 'medium_url', 'picture_url', 'xl_picture_url', 'host_id', 'host_url', 'host_name', 'host_location', 'host_about', 'host_thumbnail_url', 'host_picture_url', 'host_neighbourhood', 'host_verifications', 'calendar_last_scraped', 'has_availability', 'host_has_profile_pic', 'is_business_travel_ready','requires_license','zipcode', 'latitude', 'longitude', 'street', 'neighbourhood', 'state', 'market', 'smart_location', 'country_code', 'country', 'is_location_exact', 'minimum_minimum_nights', 'maximum_minimum_nights', 'minimum_maximum_nights', 'maximum_maximum_nights', 'minimum_nights_avg_ntm', 'maximum_nights_avg_ntm', 'host_total_listings_count', 'calculated_host_listings_count', 'calculated_host_listings_count_entire_homes', 'calculated_host_listings_count_private_rooms', 'calculated_host_listings_count_shared_rooms']\n",
    "df = df.drop(drop_cols, axis=1)"
   ]
  },
  {
   "cell_type": "code",
   "execution_count": 7,
   "metadata": {},
   "outputs": [
    {
     "name": "stdout",
     "output_type": "stream",
     "text": [
      "(11520, 52)\n",
      "object     22\n",
      "float64    16\n",
      "int64      14\n",
      "dtype: int64\n"
     ]
    }
   ],
   "source": [
    "print(df.shape)\n",
    "print(df.dtypes.value_counts())"
   ]
  },
  {
   "cell_type": "markdown",
   "metadata": {},
   "source": [
    "The listings dataframe now contains 11,520 rows and 52 columns with mixed data types."
   ]
  },
  {
   "cell_type": "code",
   "execution_count": 8,
   "metadata": {},
   "outputs": [
    {
     "name": "stdout",
     "output_type": "stream",
     "text": [
      "['host_is_superhost' 'host_listings_count' 'host_identity_verified'\n",
      " 'neighbourhood_cleansed' 'neighbourhood_group_cleansed' 'accommodates'\n",
      " 'bathrooms' 'bedrooms' 'beds' 'square_feet' 'guests_included'\n",
      " 'minimum_nights' 'maximum_nights' 'availability_30' 'availability_60'\n",
      " 'availability_90' 'availability_365' 'number_of_reviews'\n",
      " 'number_of_reviews_ltm' 'review_scores_rating' 'review_scores_accuracy'\n",
      " 'review_scores_cleanliness' 'review_scores_checkin'\n",
      " 'review_scores_communication' 'review_scores_location'\n",
      " 'review_scores_value' 'instant_bookable' 'require_guest_profile_picture'\n",
      " 'require_guest_phone_verification' 'reviews_per_month']\n"
     ]
    }
   ],
   "source": [
    "# select numeric columns\n",
    "df_numeric = df.select_dtypes(include=[np.number])\n",
    "numeric_cols = df_numeric.columns.values\n",
    "print(numeric_cols)"
   ]
  },
  {
   "cell_type": "code",
   "execution_count": 9,
   "metadata": {},
   "outputs": [
    {
     "name": "stdout",
     "output_type": "stream",
     "text": [
      "['experiences_offered' 'host_since' 'host_response_time'\n",
      " 'host_response_rate' 'host_acceptance_rate' 'city' 'property_type'\n",
      " 'room_type' 'bed_type' 'amenities' 'price' 'weekly_price' 'monthly_price'\n",
      " 'security_deposit' 'cleaning_fee' 'extra_people' 'calendar_updated'\n",
      " 'first_review' 'last_review' 'license' 'jurisdiction_names'\n",
      " 'cancellation_policy']\n"
     ]
    }
   ],
   "source": [
    "# select non numeric columns\n",
    "df_non_numeric = df.select_dtypes(exclude=[np.number])\n",
    "non_numeric_cols = df_non_numeric.columns.values\n",
    "print(non_numeric_cols)"
   ]
  },
  {
   "cell_type": "markdown",
   "metadata": {},
   "source": [
    "Missing Data Heatmap"
   ]
  },
  {
   "cell_type": "code",
   "execution_count": null,
   "metadata": {},
   "outputs": [],
   "source": []
  },
  {
   "cell_type": "code",
   "execution_count": 10,
   "metadata": {},
   "outputs": [
    {
     "data": {
      "text/plain": [
       "<matplotlib.axes._subplots.AxesSubplot at 0x1df59098108>"
      ]
     },
     "execution_count": 10,
     "metadata": {},
     "output_type": "execute_result"
    },
    {
     "data": {
      "image/png": "[encoded data removed]",
      "text/plain": [
       "<Figure size 864x576 with 2 Axes>"
      ]
     },
     "metadata": {
      "needs_background": "light"
     },
     "output_type": "display_data"
    }
   ],
   "source": [
    "cols = df.columns[:] #\n",
    "colours = ['#000099', '#ffff00'] # specify the colours - yellow is missing. blue is not missing.\n",
    "sns.heatmap(df[cols].isnull(), cmap=sns.color_palette(colours))"
   ]
  },
  {
   "cell_type": "markdown",
   "metadata": {},
   "source": [
    "It's now clear that there are several columns that are completely empty of missing a large portion of data."
   ]
  },
  {
   "cell_type": "markdown",
   "metadata": {},
   "source": [
    "Listing percentages of missing data in each column"
   ]
  },
  {
   "cell_type": "code",
   "execution_count": 11,
   "metadata": {
    "scrolled": false
   },
   "outputs": [
    {
     "name": "stdout",
     "output_type": "stream",
     "text": [
      "experiences_offered - 0.0%\n",
      "host_since - 0.0%\n",
      "host_response_time - 31.0%\n",
      "host_response_rate - 31.0%\n",
      "host_acceptance_rate - 23.0%\n",
      "host_is_superhost - 0.0%\n",
      "host_listings_count - 0.0%\n",
      "host_identity_verified - 0.0%\n",
      "neighbourhood_cleansed - 0.0%\n",
      "neighbourhood_group_cleansed - 100.0%\n",
      "city - 0.0%\n",
      "property_type - 0.0%\n",
      "room_type - 0.0%\n",
      "accommodates - 0.0%\n",
      "bathrooms - 0.0%\n",
      "bedrooms - 0.0%\n",
      "beds - 0.0%\n",
      "bed_type - 0.0%\n",
      "amenities - 0.0%\n",
      "square_feet - 98.0%\n",
      "price - 0.0%\n",
      "weekly_price - 92.0%\n",
      "monthly_price - 94.0%\n",
      "security_deposit - 27.0%\n",
      "cleaning_fee - 18.0%\n",
      "guests_included - 0.0%\n",
      "extra_people - 0.0%\n",
      "minimum_nights - 0.0%\n",
      "maximum_nights - 0.0%\n",
      "calendar_updated - 0.0%\n",
      "availability_30 - 0.0%\n",
      "availability_60 - 0.0%\n",
      "availability_90 - 0.0%\n",
      "availability_365 - 0.0%\n",
      "number_of_reviews - 0.0%\n",
      "number_of_reviews_ltm - 0.0%\n",
      "first_review - 21.0%\n",
      "last_review - 21.0%\n",
      "review_scores_rating - 22.0%\n",
      "review_scores_accuracy - 22.0%\n",
      "review_scores_cleanliness - 22.0%\n",
      "review_scores_checkin - 22.0%\n",
      "review_scores_communication - 22.0%\n",
      "review_scores_location - 23.0%\n",
      "review_scores_value - 23.0%\n",
      "license - 100.0%\n",
      "jurisdiction_names - 0.0%\n",
      "instant_bookable - 0.0%\n",
      "cancellation_policy - 0.0%\n",
      "require_guest_profile_picture - 0.0%\n",
      "require_guest_phone_verification - 0.0%\n",
      "reviews_per_month - 21.0%\n"
     ]
    }
   ],
   "source": [
    "# % of missing.\n",
    "for col in df.columns:\n",
    "    pct_missing = np.mean(df[col].isnull())\n",
    "    print('{} - {}%'.format(col, round(pct_missing*100)))"
   ]
  },
  {
   "cell_type": "code",
   "execution_count": 12,
   "metadata": {},
   "outputs": [],
   "source": [
    "drop_cols = ['neighbourhood_group_cleansed', 'square_feet','weekly_price', 'monthly_price', 'license', ]\n",
    "df = df.drop(drop_cols, axis=1)"
   ]
  },
  {
   "cell_type": "code",
   "execution_count": 13,
   "metadata": {},
   "outputs": [
    {
     "data": {
      "text/plain": [
       "Index(['experiences_offered', 'host_since', 'host_response_time',\n",
       "       'host_response_rate', 'host_acceptance_rate', 'host_is_superhost',\n",
       "       'host_listings_count', 'host_identity_verified',\n",
       "       'neighbourhood_cleansed', 'city', 'property_type', 'room_type',\n",
       "       'accommodates', 'bathrooms', 'bedrooms', 'beds', 'bed_type',\n",
       "       'amenities', 'price', 'security_deposit', 'cleaning_fee',\n",
       "       'guests_included', 'extra_people', 'minimum_nights', 'maximum_nights',\n",
       "       'calendar_updated', 'availability_30', 'availability_60',\n",
       "       'availability_90', 'availability_365', 'number_of_reviews',\n",
       "       'number_of_reviews_ltm', 'first_review', 'last_review',\n",
       "       'review_scores_rating', 'review_scores_accuracy',\n",
       "       'review_scores_cleanliness', 'review_scores_checkin',\n",
       "       'review_scores_communication', 'review_scores_location',\n",
       "       'review_scores_value', 'jurisdiction_names', 'instant_bookable',\n",
       "       'cancellation_policy', 'require_guest_profile_picture',\n",
       "       'require_guest_phone_verification', 'reviews_per_month'],\n",
       "      dtype='object')"
      ]
     },
     "execution_count": 13,
     "metadata": {},
     "output_type": "execute_result"
    }
   ],
   "source": [
    "df.columns"
   ]
  },
  {
   "cell_type": "markdown",
   "metadata": {},
   "source": [
    "# Cleaning Individual Columns #"
   ]
  },
  {
   "cell_type": "markdown",
   "metadata": {},
   "source": [
    "**Column Descriptions**\n",
    "\n",
    "*Description of each column:*\n",
    "- experiences_offered - slightly unclear as it does not appear to directly relate to Airbnb Experiences, but this seems to be the main recommended category of travel type, e.g. business\n",
    "- host_since - date that the host first joined Airbnb\n",
    "- host_response_time - average amount of time the host takes to reply to messages\n",
    "- host_response_rate - proportion of messages that the host replies to\n",
    "- host_is_superhost - whether or not the host is a superhost, which is a mark of quality for the top-rated and most experienced hosts, and can increase your search ranking on Airbnb\n",
    "- host_listings_count - how many listings the host has in total\n",
    "- host_identity_verified - whether or not the host has been verified with id\n",
    "- neighbourhood_cleansed - the London borough the property is in\n",
    "- property_type - type of property, e.g. house or flat\n",
    "- room_type - type of listing, e.g. entire home, private room or shared room\n",
    "- accommodates - how many people the property accommodates\n",
    "- bathrooms - number of bathrooms\n",
    "- bedrooms - number of bedrooms\n",
    "- beds - number of beds\n",
    "- bed_type - type of bed, e.g. real bed or sofa-bed\n",
    "- amenities - list of amenities\n",
    "- price - nightly advertised price (the target variable)\n",
    "- security_deposit - the amount required as a security deposit\n",
    "- cleaning_fee - the amount of the cleaning fee (a fixed amount paid per booking)\n",
    "- guests_included - the number of guests included in the booking fee\n",
    "- extra_people - the price per additional guest above the guests_included price\n",
    "- minimum_nights - the minimum length of stay\n",
    "- maximum_nights - the maximum length of stay\n",
    "- calendar_updated - when the host last updated the calendar\n",
    "- availability_30 - how many nights are available to be booked in the next 30 days\n",
    "- availability_60 - how many nights are available to be booked in the next 60 days\n",
    "- availability_90 - how many nights are available to be booked in the next 90 days\n",
    "- availability_365 - how many nights are available to be booked in the next 365 days\n",
    "- number_of_reviews - the number of reviews left for the property\n",
    "- number_of_reviews_ltm - the number of reviews left for the property in the last twelve months\n",
    "- first_review - the date of the first review\n",
    "- last_review - the date of the most recent review\n",
    "- review_scores_rating - guests can score properties overall from 1 to 5 stars\n",
    "- review_scores_accuracy - guests can score the accuracy of a property's description from 1 to 5 stars\n",
    "- review_scores_cleanliness - guests can score a property's cleanliness from 1 to 5 stars\n",
    "- review_scores_checkin - guests can score their check-in from 1 to 5 stars\n",
    "- review_scores_communication - guests can score a host's communication from 1 to 5 stars\n",
    "- review_scores_location - guests can score a property's location from 1 to 5 stars\n",
    "- review_scores_value - guests can score a booking's value for money from 1 to 5 stars\n",
    "- instant_bookable - whether or not the property can be instant booked (i.e. booked straight away, without having to message the host first and wait to be accepted)\n",
    "- cancellation_policy - the type of cancellation policy, e.g. strict or moderate\n",
    "- reviews_per_month - calculated field of the average number of reviews left by guest each month"
   ]
  },
  {
   "cell_type": "markdown",
   "metadata": {},
   "source": [
    "**experiences_offered**"
   ]
  },
  {
   "cell_type": "code",
   "execution_count": 14,
   "metadata": {},
   "outputs": [
    {
     "data": {
      "text/plain": [
       "none    11520\n",
       "Name: experiences_offered, dtype: int64"
      ]
     },
     "execution_count": 14,
     "metadata": {},
     "output_type": "execute_result"
    }
   ],
   "source": [
    "df.experiences_offered.value_counts(dropna=False)"
   ]
  },
  {
   "cell_type": "code",
   "execution_count": 15,
   "metadata": {},
   "outputs": [],
   "source": [
    "df.drop('experiences_offered', axis=1, inplace=True)"
   ]
  },
  {
   "cell_type": "markdown",
   "metadata": {},
   "source": [
    "**host_since**"
   ]
  },
  {
   "cell_type": "code",
   "execution_count": 16,
   "metadata": {},
   "outputs": [
    {
     "data": {
      "text/plain": [
       "2016-11-19    245\n",
       "2018-10-08    144\n",
       "2017-02-01     86\n",
       "2017-01-03     85\n",
       "2013-02-04     84\n",
       "             ... \n",
       "2020-02-05      1\n",
       "2018-08-13      1\n",
       "2010-03-14      1\n",
       "2017-09-15      1\n",
       "2012-06-17      1\n",
       "Name: host_since, Length: 2847, dtype: int64"
      ]
     },
     "execution_count": 16,
     "metadata": {},
     "output_type": "execute_result"
    }
   ],
   "source": [
    "df.host_since.value_counts(dropna=False)"
   ]
  },
  {
   "cell_type": "markdown",
   "metadata": {},
   "source": [
    "This column uses the date that a host joined as a data point. I'm going to convert this column to an integer value that represents the number of days the host has been on Airbnb and store it in a new columns."
   ]
  },
  {
   "cell_type": "code",
   "execution_count": 17,
   "metadata": {},
   "outputs": [],
   "source": [
    "# Converting to datetime object\n",
    "df['host_since'] = pd.to_datetime(df['host_since'])\n",
    "# Calcuating the number of days a host has been active on Airbnb\n",
    "# I used 2/19/2020 as the end date since that was the date this data was scraped\n",
    "df['days_as_host'] = (dt(2020, 2, 19) - df.host_since).astype('timedelta64[D]')\n"
   ]
  },
  {
   "cell_type": "code",
   "execution_count": null,
   "metadata": {},
   "outputs": [],
   "source": []
  },
  {
   "cell_type": "markdown",
   "metadata": {},
   "source": [
    "**host_response_time**"
   ]
  },
  {
   "cell_type": "code",
   "execution_count": 18,
   "metadata": {},
   "outputs": [],
   "source": [
    "# Function to get basic information on each column\n",
    "def col_info(col):\n",
    "    pct_missing = np.mean(df[col].isnull())\n",
    "    percentage = 'Missing Data: {}%'.format(round(pct_missing*100))\n",
    "    value_counts = df[col].value_counts(dropna=False)\n",
    "    unique_vals = 'Number of Unique Values: {}'.format(df[col].nunique())\n",
    "    data_type = '\\nData Type: {}'.format(df[col].dtype)\n",
    "    \n",
    "    return print(\"Column Name\", col, data_type, unique_vals, percentage, \"\\nValue Counts\", value_counts, sep='\\n')\n"
   ]
  },
  {
   "cell_type": "code",
   "execution_count": 19,
   "metadata": {},
   "outputs": [
    {
     "name": "stdout",
     "output_type": "stream",
     "text": [
      "Column Name\n",
      "host_response_time\n",
      "\n",
      "Data Type: object\n",
      "Number of Unique Values: 4\n",
      "Missing Data: 31.0%\n",
      "\n",
      "Value Counts\n",
      "within an hour        6331\n",
      "NaN                   3598\n",
      "within a few hours     937\n",
      "within a day           540\n",
      "a few days or more     114\n",
      "Name: host_response_time, dtype: int64\n"
     ]
    }
   ],
   "source": [
    "col_info('host_response_time')"
   ]
  },
  {
   "cell_type": "code",
   "execution_count": 20,
   "metadata": {},
   "outputs": [],
   "source": [
    "df.host_response_time.fillna('unknown', inplace=True)"
   ]
  },
  {
   "cell_type": "markdown",
   "metadata": {},
   "source": [
    "**host_response_rate**"
   ]
  },
  {
   "cell_type": "code",
   "execution_count": 21,
   "metadata": {
    "scrolled": true
   },
   "outputs": [
    {
     "name": "stdout",
     "output_type": "stream",
     "text": [
      "Column Name\n",
      "host_response_rate\n",
      "\n",
      "Data Type: object\n",
      "Number of Unique Values: 46\n",
      "Missing Data: 31.0%\n",
      "\n",
      "Value Counts\n",
      "100%    6566\n",
      "NaN     3598\n",
      "99%      345\n",
      "90%      114\n",
      "98%      109\n",
      "0%        84\n",
      "92%       76\n",
      "97%       75\n",
      "95%       71\n",
      "80%       53\n",
      "96%       50\n",
      "67%       40\n",
      "50%       37\n",
      "89%       29\n",
      "94%       28\n",
      "88%       26\n",
      "86%       25\n",
      "93%       25\n",
      "85%       24\n",
      "83%       22\n",
      "75%       19\n",
      "33%       15\n",
      "60%       13\n",
      "91%       12\n",
      "87%       11\n",
      "70%       11\n",
      "56%        5\n",
      "71%        3\n",
      "38%        3\n",
      "57%        3\n",
      "82%        3\n",
      "55%        3\n",
      "64%        3\n",
      "20%        3\n",
      "74%        2\n",
      "72%        2\n",
      "25%        2\n",
      "10%        1\n",
      "14%        1\n",
      "44%        1\n",
      "13%        1\n",
      "78%        1\n",
      "73%        1\n",
      "17%        1\n",
      "63%        1\n",
      "79%        1\n",
      "47%        1\n",
      "Name: host_response_rate, dtype: int64\n"
     ]
    }
   ],
   "source": [
    "col_info('host_response_rate')"
   ]
  },
  {
   "cell_type": "markdown",
   "metadata": {},
   "source": [
    "Since there are so many unqiue values here, I will create a smaller number of bins to represent the data."
   ]
  },
  {
   "cell_type": "code",
   "execution_count": 22,
   "metadata": {},
   "outputs": [],
   "source": [
    "# Converting response rate to numeric column\n",
    "df.host_response_rate = df.host_response_rate.str[:-1].astype('float64')"
   ]
  },
  {
   "cell_type": "code",
   "execution_count": 23,
   "metadata": {},
   "outputs": [
    {
     "data": {
      "text/plain": [
       "<matplotlib.axes._subplots.AxesSubplot at 0x1df5756ce48>"
      ]
     },
     "execution_count": 23,
     "metadata": {},
     "output_type": "execute_result"
    },
    {
     "data": {
      "image/png": "[encoded data removed]",
      "text/plain": [
       "<Figure size 864x576 with 1 Axes>"
      ]
     },
     "metadata": {
      "needs_background": "light"
     },
     "output_type": "display_data"
    }
   ],
   "source": [
    "df.host_response_rate.hist(bins=10)"
   ]
  },
  {
   "cell_type": "markdown",
   "metadata": {},
   "source": [
    "It's clear that most of the response rates lie within 90-100%."
   ]
  },
  {
   "cell_type": "code",
   "execution_count": 24,
   "metadata": {},
   "outputs": [
    {
     "name": "stdout",
     "output_type": "stream",
     "text": [
      "Column Name\n",
      "host_response_rate\n",
      "\n",
      "Data Type: object\n",
      "Number of Unique Values: 5\n",
      "Missing Data: 0.0%\n",
      "\n",
      "Value Counts\n",
      "100%       6566\n",
      "unknown    3598\n",
      "90-99%      791\n",
      "50-89%      415\n",
      "0-49%       150\n",
      "Name: host_response_rate, dtype: int64\n"
     ]
    }
   ],
   "source": [
    "# Bin into four categories\n",
    "df.host_response_rate = pd.cut(df.host_response_rate, bins=[0, 50, 90, 99, 100], labels=['0-49%', '50-89%', '90-99%', '100%'], include_lowest=True)\n",
    "\n",
    "# Converting to string\n",
    "df.host_response_rate = df.host_response_rate.astype('str')\n",
    "\n",
    "# Replace nulls with 'unknown'\n",
    "df.host_response_rate.replace('nan', 'unknown', inplace=True)\n",
    "\n",
    "# Calling function to see details of new column\n",
    "col_info('host_response_rate')"
   ]
  },
  {
   "cell_type": "markdown",
   "metadata": {},
   "source": [
    "**host_acceptance_rate**"
   ]
  },
  {
   "cell_type": "code",
   "execution_count": 25,
   "metadata": {},
   "outputs": [
    {
     "name": "stdout",
     "output_type": "stream",
     "text": [
      "Column Name\n",
      "host_acceptance_rate\n",
      "\n",
      "Data Type: object\n",
      "Number of Unique Values: 85\n",
      "Missing Data: 23.0%\n",
      "\n",
      "Value Counts\n",
      "100%    3560\n",
      "NaN     2671\n",
      "99%     1116\n",
      "98%      667\n",
      "97%      302\n",
      "        ... \n",
      "24%        1\n",
      "37%        1\n",
      "39%        1\n",
      "26%        1\n",
      "9%         1\n",
      "Name: host_acceptance_rate, Length: 86, dtype: int64\n"
     ]
    }
   ],
   "source": [
    "col_info('host_acceptance_rate')"
   ]
  },
  {
   "cell_type": "markdown",
   "metadata": {},
   "source": [
    "Since there are so many unqiue values here, I will create 5 distinct ranges to bin the data."
   ]
  },
  {
   "cell_type": "code",
   "execution_count": 26,
   "metadata": {},
   "outputs": [
    {
     "data": {
      "text/plain": [
       "<matplotlib.axes._subplots.AxesSubplot at 0x1df58fc1808>"
      ]
     },
     "execution_count": 26,
     "metadata": {},
     "output_type": "execute_result"
    },
    {
     "data": {
      "image/png": "[encoded data removed]",
      "text/plain": [
       "<Figure size 864x576 with 1 Axes>"
      ]
     },
     "metadata": {
      "needs_background": "light"
     },
     "output_type": "display_data"
    }
   ],
   "source": [
    "df.host_acceptance_rate.hist(bins=10)"
   ]
  },
  {
   "cell_type": "code",
   "execution_count": null,
   "metadata": {},
   "outputs": [],
   "source": []
  },
  {
   "cell_type": "code",
   "execution_count": 27,
   "metadata": {},
   "outputs": [],
   "source": [
    "# # Bin into four categories\n",
    "# df.host_acceptance_rate = pd.cut(df.host_acceptance_rate, bins=[0, 50, 90, 99, 100], labels=['0-49%', '50-89%', '90-99%', '100%'], include_lowest=True)\n",
    "\n",
    "# # Converting to string\n",
    "# df.host_acceptance_rate = df.host_acceptance_rate.astype('str')\n",
    "\n",
    "# # Replace nulls with 'unknown'\n",
    "# df.host_acceptance_rate.replace('nan', 'unknown', inplace=True)\n",
    "\n",
    "# # Calling function to see details of new column\n",
    "# col_info('host_acceptance_rate')"
   ]
  },
  {
   "cell_type": "code",
   "execution_count": 28,
   "metadata": {},
   "outputs": [
    {
     "data": {
      "text/plain": [
       "array(['100%', '98%', '93%', '83%', '61%', '69%', '50%', nan, '91%',\n",
       "       '94%', '43%', '85%', '96%', '84%', '77%', '33%', '78%', '90%',\n",
       "       '99%', '97%', '67%', '82%', '79%', '0%', '95%', '92%', '46%',\n",
       "       '89%', '57%', '80%', '52%', '86%', '17%', '68%', '76%', '88%',\n",
       "       '75%', '87%', '66%', '62%', '30%', '63%', '35%', '58%', '73%',\n",
       "       '71%', '70%', '81%', '25%', '36%', '60%', '64%', '74%', '20%',\n",
       "       '44%', '54%', '32%', '41%', '40%', '14%', '55%', '27%', '48%',\n",
       "       '42%', '29%', '56%', '22%', '59%', '49%', '38%', '72%', '13%',\n",
       "       '51%', '24%', '45%', '65%', '37%', '9%', '47%', '53%', '15%',\n",
       "       '39%', '6%', '21%', '19%', '26%'], dtype=object)"
      ]
     },
     "execution_count": 28,
     "metadata": {},
     "output_type": "execute_result"
    }
   ],
   "source": [
    "df.host_acceptance_rate.unique()"
   ]
  },
  {
   "cell_type": "markdown",
   "metadata": {},
   "source": [
    "**host_is_superhost**"
   ]
  },
  {
   "cell_type": "code",
   "execution_count": 29,
   "metadata": {},
   "outputs": [
    {
     "name": "stdout",
     "output_type": "stream",
     "text": [
      "Column Name\n",
      "host_is_superhost\n",
      "\n",
      "Data Type: float64\n",
      "Number of Unique Values: 2\n",
      "Missing Data: 0.0%\n",
      "\n",
      "Value Counts\n",
      "0.0    7663\n",
      "1.0    3855\n",
      "NaN       2\n",
      "Name: host_is_superhost, dtype: int64\n"
     ]
    }
   ],
   "source": [
    "col_info('host_is_superhost')"
   ]
  },
  {
   "cell_type": "markdown",
   "metadata": {},
   "source": [
    "**host_listings_count**"
   ]
  },
  {
   "cell_type": "code",
   "execution_count": 30,
   "metadata": {},
   "outputs": [
    {
     "name": "stdout",
     "output_type": "stream",
     "text": [
      "Column Name\n",
      "host_listings_count\n",
      "\n",
      "Data Type: float64\n",
      "Number of Unique Values: 84\n",
      "Missing Data: 0.0%\n",
      "\n",
      "Value Counts\n",
      "1.0      5202\n",
      "2.0      1559\n",
      "0.0       877\n",
      "3.0       717\n",
      "4.0       405\n",
      "         ... \n",
      "232.0       1\n",
      "129.0       1\n",
      "18.0        1\n",
      "219.0       1\n",
      "92.0        1\n",
      "Name: host_listings_count, Length: 85, dtype: int64\n"
     ]
    }
   ],
   "source": [
    "col_info('host_listings_count')"
   ]
  },
  {
   "cell_type": "code",
   "execution_count": 31,
   "metadata": {
    "scrolled": true
   },
   "outputs": [
    {
     "data": {
      "text/plain": [
       "<matplotlib.axes._subplots.AxesSubplot at 0x1df597d7308>"
      ]
     },
     "execution_count": 31,
     "metadata": {},
     "output_type": "execute_result"
    },
    {
     "data": {
      "image/png": "[encoded data removed]",
      "text/plain": [
       "<Figure size 864x576 with 1 Axes>"
      ]
     },
     "metadata": {
      "needs_background": "light"
     },
     "output_type": "display_data"
    }
   ],
   "source": [
    "df.host_listings_count.hist()"
   ]
  },
  {
   "cell_type": "code",
   "execution_count": 32,
   "metadata": {},
   "outputs": [],
   "source": [
    "df.host_listings_count = pd.qcut(df.host_listings_count, q=10, duplicates='drop', labels=['1','1-2','2-3','3-7','7-58','58-2056'])"
   ]
  },
  {
   "cell_type": "code",
   "execution_count": 33,
   "metadata": {},
   "outputs": [
    {
     "name": "stdout",
     "output_type": "stream",
     "text": [
      "Column Name\n",
      "host_listings_count\n",
      "\n",
      "Data Type: category\n",
      "Number of Unique Values: 6\n",
      "Missing Data: 0.0%\n",
      "\n",
      "Value Counts\n",
      "1          6079\n",
      "1-2        1559\n",
      "58-2056    1133\n",
      "7-58       1112\n",
      "3-7         918\n",
      "2-3         717\n",
      "NaN           2\n",
      "Name: host_listings_count, dtype: int64\n"
     ]
    }
   ],
   "source": [
    "col_info('host_listings_count')"
   ]
  },
  {
   "cell_type": "code",
   "execution_count": 34,
   "metadata": {},
   "outputs": [
    {
     "data": {
      "text/html": [
       "<div>\n",
       "<style scoped>\n",
       "    .dataframe tbody tr th:only-of-type {\n",
       "        vertical-align: middle;\n",
       "    }\n",
       "\n",
       "    .dataframe tbody tr th {\n",
       "        vertical-align: top;\n",
       "    }\n",
       "\n",
       "    .dataframe thead th {\n",
       "        text-align: right;\n",
       "    }\n",
       "</style>\n",
       "<table border=\"1\" class=\"dataframe\">\n",
       "  <thead>\n",
       "    <tr style=\"text-align: right;\">\n",
       "      <th></th>\n",
       "      <th>host_since</th>\n",
       "      <th>host_response_time</th>\n",
       "      <th>host_response_rate</th>\n",
       "      <th>host_acceptance_rate</th>\n",
       "      <th>host_is_superhost</th>\n",
       "      <th>host_listings_count</th>\n",
       "      <th>host_identity_verified</th>\n",
       "      <th>neighbourhood_cleansed</th>\n",
       "      <th>city</th>\n",
       "      <th>property_type</th>\n",
       "      <th>room_type</th>\n",
       "      <th>accommodates</th>\n",
       "      <th>bathrooms</th>\n",
       "      <th>bedrooms</th>\n",
       "      <th>beds</th>\n",
       "      <th>bed_type</th>\n",
       "      <th>amenities</th>\n",
       "      <th>price</th>\n",
       "      <th>security_deposit</th>\n",
       "      <th>cleaning_fee</th>\n",
       "      <th>guests_included</th>\n",
       "      <th>extra_people</th>\n",
       "      <th>minimum_nights</th>\n",
       "      <th>maximum_nights</th>\n",
       "      <th>calendar_updated</th>\n",
       "      <th>availability_30</th>\n",
       "      <th>availability_60</th>\n",
       "      <th>availability_90</th>\n",
       "      <th>availability_365</th>\n",
       "      <th>number_of_reviews</th>\n",
       "      <th>number_of_reviews_ltm</th>\n",
       "      <th>first_review</th>\n",
       "      <th>last_review</th>\n",
       "      <th>review_scores_rating</th>\n",
       "      <th>review_scores_accuracy</th>\n",
       "      <th>review_scores_cleanliness</th>\n",
       "      <th>review_scores_checkin</th>\n",
       "      <th>review_scores_communication</th>\n",
       "      <th>review_scores_location</th>\n",
       "      <th>review_scores_value</th>\n",
       "      <th>jurisdiction_names</th>\n",
       "      <th>instant_bookable</th>\n",
       "      <th>cancellation_policy</th>\n",
       "      <th>require_guest_profile_picture</th>\n",
       "      <th>require_guest_phone_verification</th>\n",
       "      <th>reviews_per_month</th>\n",
       "      <th>days_as_host</th>\n",
       "    </tr>\n",
       "    <tr>\n",
       "      <th>id</th>\n",
       "      <th></th>\n",
       "      <th></th>\n",
       "      <th></th>\n",
       "      <th></th>\n",
       "      <th></th>\n",
       "      <th></th>\n",
       "      <th></th>\n",
       "      <th></th>\n",
       "      <th></th>\n",
       "      <th></th>\n",
       "      <th></th>\n",
       "      <th></th>\n",
       "      <th></th>\n",
       "      <th></th>\n",
       "      <th></th>\n",
       "      <th></th>\n",
       "      <th></th>\n",
       "      <th></th>\n",
       "      <th></th>\n",
       "      <th></th>\n",
       "      <th></th>\n",
       "      <th></th>\n",
       "      <th></th>\n",
       "      <th></th>\n",
       "      <th></th>\n",
       "      <th></th>\n",
       "      <th></th>\n",
       "      <th></th>\n",
       "      <th></th>\n",
       "      <th></th>\n",
       "      <th></th>\n",
       "      <th></th>\n",
       "      <th></th>\n",
       "      <th></th>\n",
       "      <th></th>\n",
       "      <th></th>\n",
       "      <th></th>\n",
       "      <th></th>\n",
       "      <th></th>\n",
       "      <th></th>\n",
       "      <th></th>\n",
       "      <th></th>\n",
       "      <th></th>\n",
       "      <th></th>\n",
       "      <th></th>\n",
       "      <th></th>\n",
       "      <th></th>\n",
       "    </tr>\n",
       "  </thead>\n",
       "  <tbody>\n",
       "    <tr>\n",
       "      <th>4356661</th>\n",
       "      <td>NaT</td>\n",
       "      <td>unknown</td>\n",
       "      <td>unknown</td>\n",
       "      <td>NaN</td>\n",
       "      <td>NaN</td>\n",
       "      <td>NaN</td>\n",
       "      <td>NaN</td>\n",
       "      <td>78704</td>\n",
       "      <td>Austin</td>\n",
       "      <td>Apartment</td>\n",
       "      <td>Entire home/apt</td>\n",
       "      <td>2</td>\n",
       "      <td>1.0</td>\n",
       "      <td>1.0</td>\n",
       "      <td>1.0</td>\n",
       "      <td>Airbed</td>\n",
       "      <td>{\"Air conditioning\",\"Wheelchair accessible\",Po...</td>\n",
       "      <td>$75.00</td>\n",
       "      <td>NaN</td>\n",
       "      <td>NaN</td>\n",
       "      <td>1</td>\n",
       "      <td>$0.00</td>\n",
       "      <td>1</td>\n",
       "      <td>1125</td>\n",
       "      <td>53 months ago</td>\n",
       "      <td>0</td>\n",
       "      <td>0</td>\n",
       "      <td>0</td>\n",
       "      <td>0</td>\n",
       "      <td>1</td>\n",
       "      <td>0</td>\n",
       "      <td>2015-08-13</td>\n",
       "      <td>2015-08-13</td>\n",
       "      <td>NaN</td>\n",
       "      <td>NaN</td>\n",
       "      <td>NaN</td>\n",
       "      <td>NaN</td>\n",
       "      <td>NaN</td>\n",
       "      <td>NaN</td>\n",
       "      <td>NaN</td>\n",
       "      <td>{\"Texas State\"}</td>\n",
       "      <td>0</td>\n",
       "      <td>strict_14_with_grace_period</td>\n",
       "      <td>0</td>\n",
       "      <td>0</td>\n",
       "      <td>0.02</td>\n",
       "      <td>NaN</td>\n",
       "    </tr>\n",
       "    <tr>\n",
       "      <th>8214182</th>\n",
       "      <td>NaT</td>\n",
       "      <td>unknown</td>\n",
       "      <td>unknown</td>\n",
       "      <td>NaN</td>\n",
       "      <td>NaN</td>\n",
       "      <td>NaN</td>\n",
       "      <td>NaN</td>\n",
       "      <td>78741</td>\n",
       "      <td>Austin</td>\n",
       "      <td>Apartment</td>\n",
       "      <td>Private room</td>\n",
       "      <td>1</td>\n",
       "      <td>1.0</td>\n",
       "      <td>1.0</td>\n",
       "      <td>1.0</td>\n",
       "      <td>Real Bed</td>\n",
       "      <td>{TV,\"Cable TV\",Internet,Wifi,\"Air conditioning...</td>\n",
       "      <td>$26.00</td>\n",
       "      <td>NaN</td>\n",
       "      <td>NaN</td>\n",
       "      <td>1</td>\n",
       "      <td>$0.00</td>\n",
       "      <td>1</td>\n",
       "      <td>5</td>\n",
       "      <td>51 months ago</td>\n",
       "      <td>0</td>\n",
       "      <td>0</td>\n",
       "      <td>0</td>\n",
       "      <td>0</td>\n",
       "      <td>4</td>\n",
       "      <td>0</td>\n",
       "      <td>2015-09-07</td>\n",
       "      <td>2015-09-24</td>\n",
       "      <td>93.0</td>\n",
       "      <td>9.0</td>\n",
       "      <td>9.0</td>\n",
       "      <td>10.0</td>\n",
       "      <td>10.0</td>\n",
       "      <td>10.0</td>\n",
       "      <td>10.0</td>\n",
       "      <td>{\"Texas State\"}</td>\n",
       "      <td>0</td>\n",
       "      <td>flexible</td>\n",
       "      <td>0</td>\n",
       "      <td>0</td>\n",
       "      <td>0.07</td>\n",
       "      <td>NaN</td>\n",
       "    </tr>\n",
       "  </tbody>\n",
       "</table>\n",
       "</div>"
      ],
      "text/plain": [
       "        host_since host_response_time host_response_rate host_acceptance_rate  \\\n",
       "id                                                                              \n",
       "4356661        NaT            unknown            unknown                  NaN   \n",
       "8214182        NaT            unknown            unknown                  NaN   \n",
       "\n",
       "         host_is_superhost host_listings_count  host_identity_verified  \\\n",
       "id                                                                       \n",
       "4356661                NaN                 NaN                     NaN   \n",
       "8214182                NaN                 NaN                     NaN   \n",
       "\n",
       "         neighbourhood_cleansed    city property_type        room_type  \\\n",
       "id                                                                       \n",
       "4356661                   78704  Austin     Apartment  Entire home/apt   \n",
       "8214182                   78741  Austin     Apartment     Private room   \n",
       "\n",
       "         accommodates  bathrooms  bedrooms  beds  bed_type  \\\n",
       "id                                                           \n",
       "4356661             2        1.0       1.0   1.0    Airbed   \n",
       "8214182             1        1.0       1.0   1.0  Real Bed   \n",
       "\n",
       "                                                 amenities   price  \\\n",
       "id                                                                   \n",
       "4356661  {\"Air conditioning\",\"Wheelchair accessible\",Po...  $75.00   \n",
       "8214182  {TV,\"Cable TV\",Internet,Wifi,\"Air conditioning...  $26.00   \n",
       "\n",
       "        security_deposit cleaning_fee  guests_included extra_people  \\\n",
       "id                                                                    \n",
       "4356661              NaN          NaN                1        $0.00   \n",
       "8214182              NaN          NaN                1        $0.00   \n",
       "\n",
       "         minimum_nights  maximum_nights calendar_updated  availability_30  \\\n",
       "id                                                                          \n",
       "4356661               1            1125    53 months ago                0   \n",
       "8214182               1               5    51 months ago                0   \n",
       "\n",
       "         availability_60  availability_90  availability_365  \\\n",
       "id                                                            \n",
       "4356661                0                0                 0   \n",
       "8214182                0                0                 0   \n",
       "\n",
       "         number_of_reviews  number_of_reviews_ltm first_review last_review  \\\n",
       "id                                                                           \n",
       "4356661                  1                      0   2015-08-13  2015-08-13   \n",
       "8214182                  4                      0   2015-09-07  2015-09-24   \n",
       "\n",
       "         review_scores_rating  review_scores_accuracy  \\\n",
       "id                                                      \n",
       "4356661                   NaN                     NaN   \n",
       "8214182                  93.0                     9.0   \n",
       "\n",
       "         review_scores_cleanliness  review_scores_checkin  \\\n",
       "id                                                          \n",
       "4356661                        NaN                    NaN   \n",
       "8214182                        9.0                   10.0   \n",
       "\n",
       "         review_scores_communication  review_scores_location  \\\n",
       "id                                                             \n",
       "4356661                          NaN                     NaN   \n",
       "8214182                         10.0                    10.0   \n",
       "\n",
       "         review_scores_value jurisdiction_names  instant_bookable  \\\n",
       "id                                                                  \n",
       "4356661                  NaN    {\"Texas State\"}                 0   \n",
       "8214182                 10.0    {\"Texas State\"}                 0   \n",
       "\n",
       "                 cancellation_policy  require_guest_profile_picture  \\\n",
       "id                                                                    \n",
       "4356661  strict_14_with_grace_period                              0   \n",
       "8214182                     flexible                              0   \n",
       "\n",
       "         require_guest_phone_verification  reviews_per_month  days_as_host  \n",
       "id                                                                          \n",
       "4356661                                 0               0.02           NaN  \n",
       "8214182                                 0               0.07           NaN  "
      ]
     },
     "execution_count": 34,
     "metadata": {},
     "output_type": "execute_result"
    }
   ],
   "source": [
    "df[df.host_listings_count.isnull()]"
   ]
  },
  {
   "cell_type": "markdown",
   "metadata": {},
   "source": [
    "**host_identity_verified**"
   ]
  },
  {
   "cell_type": "code",
   "execution_count": 35,
   "metadata": {},
   "outputs": [
    {
     "name": "stdout",
     "output_type": "stream",
     "text": [
      "Column Name\n",
      "host_identity_verified\n",
      "\n",
      "Data Type: float64\n",
      "Number of Unique Values: 2\n",
      "Missing Data: 0.0%\n",
      "\n",
      "Value Counts\n",
      "0.0    6056\n",
      "1.0    5462\n",
      "NaN       2\n",
      "Name: host_identity_verified, dtype: int64\n"
     ]
    }
   ],
   "source": [
    "col_info('host_identity_verified')"
   ]
  },
  {
   "cell_type": "markdown",
   "metadata": {},
   "source": [
    "It looks like there are slightly more hosts with unverified accounts compared to hosts with verified accounts"
   ]
  },
  {
   "cell_type": "markdown",
   "metadata": {},
   "source": [
    "**neighbourhood_cleansed**"
   ]
  },
  {
   "cell_type": "code",
   "execution_count": 36,
   "metadata": {
    "scrolled": true
   },
   "outputs": [
    {
     "name": "stdout",
     "output_type": "stream",
     "text": [
      "Column Name\n",
      "neighbourhood_cleansed\n",
      "\n",
      "Data Type: int64\n",
      "Number of Unique Values: 44\n",
      "Missing Data: 0.0%\n",
      "\n",
      "Value Counts\n",
      "78704    2214\n",
      "78702    1506\n",
      "78741     785\n",
      "78701     719\n",
      "78705     651\n",
      "78703     620\n",
      "78745     535\n",
      "78751     484\n",
      "78723     340\n",
      "78746     284\n",
      "78757     242\n",
      "78758     233\n",
      "78721     224\n",
      "78734     222\n",
      "78722     218\n",
      "78744     188\n",
      "78748     169\n",
      "78756     136\n",
      "78731     135\n",
      "78759     127\n",
      "78749     127\n",
      "78752     119\n",
      "78753     104\n",
      "78729     104\n",
      "78737      99\n",
      "78754      96\n",
      "78727      90\n",
      "78724      80\n",
      "78733      75\n",
      "78728      70\n",
      "78736      63\n",
      "78717      62\n",
      "78725      60\n",
      "78735      54\n",
      "78750      50\n",
      "78738      48\n",
      "78732      45\n",
      "78747      45\n",
      "78730      40\n",
      "78739      33\n",
      "78726      13\n",
      "78742       6\n",
      "78712       3\n",
      "78719       2\n",
      "Name: neighbourhood_cleansed, dtype: int64\n"
     ]
    }
   ],
   "source": [
    "col_info('neighbourhood_cleansed')"
   ]
  },
  {
   "cell_type": "markdown",
   "metadata": {},
   "source": [
    "It appears that there are no missing values for this column, which is good."
   ]
  },
  {
   "cell_type": "markdown",
   "metadata": {},
   "source": [
    "**city**"
   ]
  },
  {
   "cell_type": "code",
   "execution_count": 37,
   "metadata": {
    "scrolled": true
   },
   "outputs": [
    {
     "name": "stdout",
     "output_type": "stream",
     "text": [
      "Column Name\n",
      "city\n",
      "\n",
      "Data Type: object\n",
      "Number of Unique Values: 24\n",
      "Missing Data: 0.0%\n",
      "\n",
      "Value Counts\n",
      "Austin                    11369\n",
      "Lakeway                      66\n",
      "West Lake Hills              26\n",
      "Sunset Valley                10\n",
      "Pflugerville                  8\n",
      "The Hills                     6\n",
      "Bee Cave                      6\n",
      "Austin                        4\n",
      "Dripping Springs              3\n",
      "Lake Travis                   2\n",
      "AUSTIN                        2\n",
      "Rollingwood                   2\n",
      "NaN                           2\n",
      "Spicewood                     2\n",
      "Manchaca                      2\n",
      "Westlake Hills, Austin        1\n",
      "Driftwood                     1\n",
      "Downtown Austin               1\n",
      "austin                        1\n",
      "point venture                 1\n",
      "Travis County                 1\n",
      "Round Rock                    1\n",
      "Bouldin, Austin               1\n",
      "Cedar Park                    1\n",
      "Anderson Mill                 1\n",
      "Name: city, dtype: int64\n"
     ]
    }
   ],
   "source": [
    "col_info('city')"
   ]
  },
  {
   "cell_type": "markdown",
   "metadata": {},
   "source": [
    "There appears to be slight variations in how Austin, TX is entered. I will group everything into Austin and drop the outlying cities."
   ]
  },
  {
   "cell_type": "code",
   "execution_count": 38,
   "metadata": {},
   "outputs": [],
   "source": [
    "df.city = df.city.str.upper()"
   ]
  },
  {
   "cell_type": "code",
   "execution_count": 39,
   "metadata": {},
   "outputs": [
    {
     "name": "stdout",
     "output_type": "stream",
     "text": [
      "Column Name\n",
      "city\n",
      "\n",
      "Data Type: object\n",
      "Number of Unique Values: 22\n",
      "Missing Data: 0.0%\n",
      "\n",
      "Value Counts\n",
      "AUSTIN                    11372\n",
      "LAKEWAY                      66\n",
      "WEST LAKE HILLS              26\n",
      "SUNSET VALLEY                10\n",
      "PFLUGERVILLE                  8\n",
      "THE HILLS                     6\n",
      "BEE CAVE                      6\n",
      "AUSTIN                        4\n",
      "DRIPPING SPRINGS              3\n",
      "ROLLINGWOOD                   2\n",
      "SPICEWOOD                     2\n",
      "NaN                           2\n",
      "MANCHACA                      2\n",
      "LAKE TRAVIS                   2\n",
      "POINT VENTURE                 1\n",
      "BOULDIN, AUSTIN               1\n",
      "ROUND ROCK                    1\n",
      "CEDAR PARK                    1\n",
      "ANDERSON MILL                 1\n",
      "WESTLAKE HILLS, AUSTIN        1\n",
      "DOWNTOWN AUSTIN               1\n",
      "TRAVIS COUNTY                 1\n",
      "DRIFTWOOD                     1\n",
      "Name: city, dtype: int64\n"
     ]
    }
   ],
   "source": [
    "col_info('city')"
   ]
  },
  {
   "cell_type": "code",
   "execution_count": 40,
   "metadata": {},
   "outputs": [
    {
     "data": {
      "text/plain": [
       "array(['AUSTIN', nan, 'WEST LAKE HILLS', 'SUNSET VALLEY', 'LAKEWAY',\n",
       "       'ROLLINGWOOD', 'THE HILLS', 'MANCHACA', 'BEE CAVE',\n",
       "       'ANDERSON MILL', 'DRIPPING SPRINGS', 'AUSTIN ', 'SPICEWOOD',\n",
       "       'BOULDIN, AUSTIN', 'ROUND ROCK', 'WESTLAKE HILLS, AUSTIN',\n",
       "       'DRIFTWOOD', 'LAKE TRAVIS', 'DOWNTOWN AUSTIN', 'PFLUGERVILLE',\n",
       "       'CEDAR PARK', 'TRAVIS COUNTY', 'POINT VENTURE'], dtype=object)"
      ]
     },
     "execution_count": 40,
     "metadata": {},
     "output_type": "execute_result"
    }
   ],
   "source": [
    "df.city.unique()"
   ]
  },
  {
   "cell_type": "code",
   "execution_count": 41,
   "metadata": {
    "scrolled": true
   },
   "outputs": [],
   "source": [
    "mapped_cols_keep = {'AUSTIN':'AUSTIN', 'AUSTIN ':'AUSTIN', 'DOWNTOWN AUSTIN':'AUSTIN'}\n",
    "df.city = df.city.map(mapped_cols_keep)"
   ]
  },
  {
   "cell_type": "code",
   "execution_count": 42,
   "metadata": {},
   "outputs": [],
   "source": [
    "df.city.dropna(inplace=True)"
   ]
  },
  {
   "cell_type": "markdown",
   "metadata": {},
   "source": [
    "**property_type**"
   ]
  },
  {
   "cell_type": "code",
   "execution_count": 43,
   "metadata": {},
   "outputs": [
    {
     "name": "stdout",
     "output_type": "stream",
     "text": [
      "Column Name\n",
      "property_type\n",
      "\n",
      "Data Type: object\n",
      "Number of Unique Values: 35\n",
      "Missing Data: 0.0%\n",
      "\n",
      "Value Counts\n",
      "House                 5069\n",
      "Apartment             3051\n",
      "Condominium           1057\n",
      "Guesthouse             522\n",
      "Townhouse              418\n",
      "Bungalow               298\n",
      "Guest suite            266\n",
      "Serviced apartment     169\n",
      "Loft                   131\n",
      "Camper/RV               90\n",
      "Cottage                 69\n",
      "Tiny house              60\n",
      "Resort                  49\n",
      "Villa                   43\n",
      "Other                   38\n",
      "Boutique hotel          31\n",
      "Hostel                  28\n",
      "Aparthotel              24\n",
      "Cabin                   19\n",
      "Bed and breakfast       18\n",
      "Tent                    12\n",
      "Campsite                 9\n",
      "Farm stay                9\n",
      "Boat                     7\n",
      "Yurt                     5\n",
      "Hotel                    5\n",
      "Treehouse                5\n",
      "Barn                     4\n",
      "Tipi                     3\n",
      "Dome house               3\n",
      "Houseboat                2\n",
      "Chalet                   2\n",
      "Bus                      2\n",
      "Earth house              1\n",
      "Nature lodge             1\n",
      "Name: property_type, dtype: int64\n"
     ]
    }
   ],
   "source": [
    "col_info('property_type')"
   ]
  },
  {
   "cell_type": "markdown",
   "metadata": {},
   "source": [
    "There are a lot of different categories for the type of house the listing is. I will try to get this down to 5-7 different categories."
   ]
  },
  {
   "cell_type": "code",
   "execution_count": 44,
   "metadata": {},
   "outputs": [
    {
     "data": {
      "text/plain": [
       "array(['HOUSE', 'GUESTHOUSE', 'GUEST SUITE', 'CONDOMINIUM', 'APARTMENT',\n",
       "       'TOWNHOUSE', 'BUNGALOW', 'LOFT', 'OTHER', 'CABIN',\n",
       "       'BED AND BREAKFAST', 'CAMPSITE', 'TENT', 'VILLA', 'CAMPER/RV',\n",
       "       'COTTAGE', 'TINY HOUSE', 'SERVICED APARTMENT', 'BARN', 'FARM STAY',\n",
       "       'BOUTIQUE HOTEL', 'YURT', 'DOME HOUSE', 'BUS', 'TIPI', 'TREEHOUSE',\n",
       "       'BOAT', 'HOSTEL', 'APARTHOTEL', 'CHALET', 'HOUSEBOAT', 'RESORT',\n",
       "       'HOTEL', 'EARTH HOUSE', 'NATURE LODGE'], dtype=object)"
      ]
     },
     "execution_count": 44,
     "metadata": {},
     "output_type": "execute_result"
    }
   ],
   "source": [
    "df.property_type = df.property_type.str.upper()\n",
    "df.property_type.unique()"
   ]
  },
  {
   "cell_type": "code",
   "execution_count": 45,
   "metadata": {
    "scrolled": false
   },
   "outputs": [
    {
     "name": "stdout",
     "output_type": "stream",
     "text": [
      "Column Name\n",
      "property_type\n",
      "\n",
      "Data Type: object\n",
      "Number of Unique Values: 4\n",
      "Missing Data: 0.0%\n",
      "\n",
      "Value Counts\n",
      "HOUSE              6901\n",
      "APARTMENT/CONDO    4301\n",
      "OTHER               215\n",
      "HOTEL               103\n",
      "Name: property_type, dtype: int64\n"
     ]
    }
   ],
   "source": [
    "propery_type_dict = {'GUESTHOUSE' : 'HOUSE',\n",
    "                     'GUEST SUITE' : 'HOUSE', \n",
    "                     'CONDOMINIUM' : 'APARTMENT/CONDO',\n",
    "                     'APARTMENT' : 'APARTMENT/CONDO',\n",
    "                     'TOWNHOUSE' : 'HOUSE',\n",
    "                     'BUNGALOW' : 'HOUSE',\n",
    "                     'LOFT' : 'HOUSE',\n",
    "                     'CABIN' : 'HOUSE',\n",
    "                     'BED AND BREAKFAST' : 'HOTEL',\n",
    "                     'CAMPSITE' : 'OTHER',\n",
    "                     'TENT' : 'OTHER',\n",
    "                     'VILLA' : 'HOUSE',\n",
    "                     'CAMPER/RV' : 'OTHER',\n",
    "                     'COTTAGE' : 'HOUSE',\n",
    "                     'TINY HOUSE' : 'HOUSE',\n",
    "                     'SERVICED APARTMENT' : 'APARTMENT/CONDO',\n",
    "                     'BARN' : 'OTHER',\n",
    "                     'FARM STAY' : 'OTHER',\n",
    "                     'BOUTIQUE HOTEL' : 'HOTEL',\n",
    "                     'YURT' : 'OTHER', \n",
    "                     'DOME HOUSE' : 'HOUSE', \n",
    "                     'BUS' : 'OTHER', \n",
    "                     'TIPI' : 'OTHER', \n",
    "                     'TREEHOUSE' : 'OTHER',\n",
    "                     'BOAT' : 'OTHER',\n",
    "                     'HOSTEL' : 'OTHER',\n",
    "                     'APARTHOTEL' : 'APARTMENT/CONDO',\n",
    "                     'CHALET' : 'HOUSE',\n",
    "                     'HOUSEBOAT' : 'OTHER',\n",
    "                     'RESORT' : 'HOTEL',\n",
    "                     'EARTH HOUSE' : 'HOUSE',\n",
    "                     'NATURE LODGE' : 'OTHER'\n",
    "                    }\n",
    "\n",
    "df.property_type.replace(propery_type_dict, inplace = True)\n",
    "col_info('property_type')\n"
   ]
  },
  {
   "cell_type": "markdown",
   "metadata": {},
   "source": [
    "**room_type**"
   ]
  },
  {
   "cell_type": "code",
   "execution_count": 46,
   "metadata": {},
   "outputs": [
    {
     "name": "stdout",
     "output_type": "stream",
     "text": [
      "Column Name\n",
      "room_type\n",
      "\n",
      "Data Type: object\n",
      "Number of Unique Values: 4\n",
      "Missing Data: 0.0%\n",
      "\n",
      "Value Counts\n",
      "Entire home/apt    8700\n",
      "Private room       2587\n",
      "Shared room         179\n",
      "Hotel room           54\n",
      "Name: room_type, dtype: int64\n"
     ]
    }
   ],
   "source": [
    "col_info('room_type')"
   ]
  },
  {
   "cell_type": "code",
   "execution_count": 47,
   "metadata": {},
   "outputs": [],
   "source": [
    "df['room_type'] = df['room_type'].str.upper()\n",
    "df['room_tybpe'] = df['room_type'].replace('HOTEL ROOM', 'PRIVATE ROOM')"
   ]
  },
  {
   "cell_type": "code",
   "execution_count": 48,
   "metadata": {},
   "outputs": [
    {
     "name": "stdout",
     "output_type": "stream",
     "text": [
      "Column Name\n",
      "room_type\n",
      "\n",
      "Data Type: object\n",
      "Number of Unique Values: 4\n",
      "Missing Data: 0.0%\n",
      "\n",
      "Value Counts\n",
      "ENTIRE HOME/APT    8700\n",
      "PRIVATE ROOM       2587\n",
      "SHARED ROOM         179\n",
      "HOTEL ROOM           54\n",
      "Name: room_type, dtype: int64\n"
     ]
    }
   ],
   "source": [
    "col_info('room_type')"
   ]
  },
  {
   "cell_type": "markdown",
   "metadata": {},
   "source": [
    "**accommodates**"
   ]
  },
  {
   "cell_type": "code",
   "execution_count": 49,
   "metadata": {
    "scrolled": false
   },
   "outputs": [
    {
     "name": "stdout",
     "output_type": "stream",
     "text": [
      "Column Name\n",
      "accommodates\n",
      "\n",
      "Data Type: int64\n",
      "Number of Unique Values: 26\n",
      "Missing Data: 0.0%\n",
      "\n",
      "Value Counts\n",
      "2     3187\n",
      "4     2535\n",
      "6     1678\n",
      "3      935\n",
      "8      690\n",
      "5      630\n",
      "1      483\n",
      "10     416\n",
      "16     247\n",
      "7      244\n",
      "12     172\n",
      "9      104\n",
      "14      78\n",
      "11      42\n",
      "13      30\n",
      "15      27\n",
      "18       4\n",
      "21       4\n",
      "24       3\n",
      "19       2\n",
      "20       2\n",
      "32       2\n",
      "28       2\n",
      "33       1\n",
      "25       1\n",
      "17       1\n",
      "Name: accommodates, dtype: int64\n"
     ]
    }
   ],
   "source": [
    "col_info('accommodates')"
   ]
  },
  {
   "cell_type": "code",
   "execution_count": 50,
   "metadata": {},
   "outputs": [
    {
     "data": {
      "text/plain": [
       "<matplotlib.axes._subplots.AxesSubplot at 0x1df57739d08>"
      ]
     },
     "execution_count": 50,
     "metadata": {},
     "output_type": "execute_result"
    },
    {
     "data": {
      "image/png": "[encoded data removed]",
      "text/plain": [
       "<Figure size 864x576 with 1 Axes>"
      ]
     },
     "metadata": {
      "needs_background": "light"
     },
     "output_type": "display_data"
    }
   ],
   "source": [
    "df.accommodates.plot(kind='hist')"
   ]
  },
  {
   "cell_type": "markdown",
   "metadata": {},
   "source": [
    "Most of the data falls between 0-10 people."
   ]
  },
  {
   "cell_type": "markdown",
   "metadata": {},
   "source": [
    "**bathrooms**"
   ]
  },
  {
   "cell_type": "code",
   "execution_count": 51,
   "metadata": {
    "scrolled": false
   },
   "outputs": [
    {
     "name": "stdout",
     "output_type": "stream",
     "text": [
      "Column Name\n",
      "bathrooms\n",
      "\n",
      "Data Type: float64\n",
      "Number of Unique Values: 21\n",
      "Missing Data: 0.0%\n",
      "\n",
      "Value Counts\n",
      "1.0     6751\n",
      "2.0     2258\n",
      "2.5      775\n",
      "1.5      762\n",
      "3.0      402\n",
      "3.5      183\n",
      "4.0      139\n",
      "4.5       73\n",
      "5.0       47\n",
      "0.0       31\n",
      "6.0       21\n",
      "5.5       21\n",
      "0.5       14\n",
      "NaN       14\n",
      "6.5       14\n",
      "8.0        5\n",
      "7.0        4\n",
      "7.5        2\n",
      "17.0       1\n",
      "9.0        1\n",
      "11.0       1\n",
      "9.5        1\n",
      "Name: bathrooms, dtype: int64\n"
     ]
    }
   ],
   "source": [
    "col_info('bathrooms')"
   ]
  },
  {
   "cell_type": "code",
   "execution_count": 52,
   "metadata": {},
   "outputs": [],
   "source": [
    "df.bathrooms.dropna(inplace=True)"
   ]
  },
  {
   "cell_type": "code",
   "execution_count": null,
   "metadata": {},
   "outputs": [],
   "source": []
  },
  {
   "cell_type": "markdown",
   "metadata": {},
   "source": [
    "**bedrooms**"
   ]
  },
  {
   "cell_type": "code",
   "execution_count": 53,
   "metadata": {},
   "outputs": [
    {
     "name": "stdout",
     "output_type": "stream",
     "text": [
      "Column Name\n",
      "bedrooms\n",
      "\n",
      "Data Type: float64\n",
      "Number of Unique Values: 16\n",
      "Missing Data: 0.0%\n",
      "\n",
      "Value Counts\n",
      "1.0     5459\n",
      "2.0     2714\n",
      "3.0     1586\n",
      "0.0      697\n",
      "4.0      679\n",
      "5.0      228\n",
      "6.0       86\n",
      "7.0       30\n",
      "8.0       16\n",
      "9.0        9\n",
      "10.0       6\n",
      "NaN        5\n",
      "15.0       1\n",
      "12.0       1\n",
      "14.0       1\n",
      "13.0       1\n",
      "23.0       1\n",
      "Name: bedrooms, dtype: int64\n"
     ]
    }
   ],
   "source": [
    "col_info('bedrooms')"
   ]
  },
  {
   "cell_type": "code",
   "execution_count": 54,
   "metadata": {},
   "outputs": [],
   "source": [
    "df.bedrooms.dropna(inplace=True)"
   ]
  },
  {
   "cell_type": "markdown",
   "metadata": {},
   "source": [
    "Dropped the 5 missing values."
   ]
  },
  {
   "cell_type": "markdown",
   "metadata": {},
   "source": [
    "**beds**"
   ]
  },
  {
   "cell_type": "code",
   "execution_count": 55,
   "metadata": {
    "scrolled": true
   },
   "outputs": [
    {
     "name": "stdout",
     "output_type": "stream",
     "text": [
      "Column Name\n",
      "beds\n",
      "\n",
      "Data Type: float64\n",
      "Number of Unique Values: 33\n",
      "Missing Data: 0.0%\n",
      "\n",
      "Value Counts\n",
      "1.0      4404\n",
      "2.0      2973\n",
      "3.0      1796\n",
      "4.0       818\n",
      "5.0       437\n",
      "6.0       288\n",
      "0.0       168\n",
      "7.0       156\n",
      "8.0       105\n",
      "10.0       76\n",
      "9.0        68\n",
      "11.0       59\n",
      "NaN        40\n",
      "12.0       36\n",
      "13.0       18\n",
      "14.0       16\n",
      "16.0       14\n",
      "15.0       11\n",
      "18.0        7\n",
      "17.0        6\n",
      "19.0        5\n",
      "22.0        4\n",
      "25.0        2\n",
      "26.0        2\n",
      "24.0        2\n",
      "39.0        1\n",
      "28.0        1\n",
      "20.0        1\n",
      "33.0        1\n",
      "132.0       1\n",
      "27.0        1\n",
      "36.0        1\n",
      "61.0        1\n",
      "30.0        1\n",
      "Name: beds, dtype: int64\n"
     ]
    }
   ],
   "source": [
    "col_info('beds')"
   ]
  },
  {
   "cell_type": "code",
   "execution_count": 56,
   "metadata": {},
   "outputs": [],
   "source": [
    "df.beds.fillna(df.beds.median(), inplace=True)"
   ]
  },
  {
   "cell_type": "code",
   "execution_count": 57,
   "metadata": {},
   "outputs": [
    {
     "name": "stdout",
     "output_type": "stream",
     "text": [
      "Column Name\n",
      "beds\n",
      "\n",
      "Data Type: float64\n",
      "Number of Unique Values: 33\n",
      "Missing Data: 0.0%\n",
      "\n",
      "Value Counts\n",
      "1.0      4404\n",
      "2.0      3013\n",
      "3.0      1796\n",
      "4.0       818\n",
      "5.0       437\n",
      "6.0       288\n",
      "0.0       168\n",
      "7.0       156\n",
      "8.0       105\n",
      "10.0       76\n",
      "9.0        68\n",
      "11.0       59\n",
      "12.0       36\n",
      "13.0       18\n",
      "14.0       16\n",
      "16.0       14\n",
      "15.0       11\n",
      "18.0        7\n",
      "17.0        6\n",
      "19.0        5\n",
      "22.0        4\n",
      "24.0        2\n",
      "26.0        2\n",
      "25.0        2\n",
      "39.0        1\n",
      "28.0        1\n",
      "33.0        1\n",
      "132.0       1\n",
      "27.0        1\n",
      "36.0        1\n",
      "30.0        1\n",
      "61.0        1\n",
      "20.0        1\n",
      "Name: beds, dtype: int64\n"
     ]
    }
   ],
   "source": [
    "col_info('beds')"
   ]
  },
  {
   "cell_type": "markdown",
   "metadata": {},
   "source": [
    "Since there were 40 missing data points, I decided to fill them with the column median rather than dropping them. I also noticed that there is one entry with 132 beds. This columns may need further inspection."
   ]
  },
  {
   "cell_type": "markdown",
   "metadata": {},
   "source": [
    "**bed_type**"
   ]
  },
  {
   "cell_type": "code",
   "execution_count": 58,
   "metadata": {},
   "outputs": [
    {
     "name": "stdout",
     "output_type": "stream",
     "text": [
      "Column Name\n",
      "bed_type\n",
      "\n",
      "Data Type: object\n",
      "Number of Unique Values: 5\n",
      "Missing Data: 0.0%\n",
      "\n",
      "Value Counts\n",
      "Real Bed         11407\n",
      "Futon               43\n",
      "Airbed              41\n",
      "Pull-out Sofa       18\n",
      "Couch               11\n",
      "Name: bed_type, dtype: int64\n"
     ]
    }
   ],
   "source": [
    "col_info('bed_type')"
   ]
  },
  {
   "cell_type": "markdown",
   "metadata": {},
   "source": [
    "Almost 100% of entries have real bed as the bed type so this column is not very useful and will be dropped."
   ]
  },
  {
   "cell_type": "markdown",
   "metadata": {},
   "source": [
    "**amenities**"
   ]
  },
  {
   "cell_type": "markdown",
   "metadata": {},
   "source": [
    "Amenities is a behemoth of a column. There is a bunch of key information buried in this column for each listing entry that will have a great impact on the price of the rental."
   ]
  },
  {
   "cell_type": "code",
   "execution_count": 59,
   "metadata": {
    "scrolled": true
   },
   "outputs": [
    {
     "name": "stdout",
     "output_type": "stream",
     "text": [
      "Column Name\n",
      "amenities\n",
      "\n",
      "Data Type: object\n",
      "Number of Unique Values: 10449\n",
      "Missing Data: 0.0%\n",
      "\n",
      "Value Counts\n",
      "{}                                                                                                                                                                                                                                                                                                                                                                                                                                                                                                                                                                                                                                                                52\n",
      "{TV,\"Cable TV\",Internet,Wifi,\"Air conditioning\",Pool,Kitchen,Gym,Elevator,Heating,\"Family/kid friendly\",Washer,Dryer,Essentials,Shampoo,\"24-hour check-in\",Hangers,\"Hair dryer\",Iron,\"Laptop friendly workspace\",Microwave,\"Coffee maker\",Refrigerator,Dishwasher,\"Dishes and silverware\",Oven,Stove}                                                                                                                                                                                                                                                                                                                                                             39\n",
      "{TV,Wifi,\"Air conditioning\",Kitchen,\"Free parking on premises\",\"Free street parking\",Heating,Washer,Dryer,\"Smoke detector\",\"Carbon monoxide detector\",\"Fire extinguisher\",Essentials,Shampoo,Hangers,\"Hair dryer\",Iron,\"Laptop friendly workspace\",\"Self check-in\",Keypad,\"Private living room\",\"Private entrance\",\"Hot water\",\"Bed linens\",Microwave,\"Coffee maker\",Refrigerator,Dishwasher,\"Dishes and silverware\",\"Cooking basics\",Oven,Stove,\"Patio or balcony\",\"Long term stays allowed\"}                                                                                                                                                                    36\n",
      "{TV,\"Cable TV\",Wifi,\"Air conditioning\",Pool,Kitchen,Gym,Elevator,Heating,\"Family/kid friendly\",Washer,Dryer,\"Smoke detector\",Essentials,Shampoo,Hangers,\"Hair dryer\",Iron,\"Laptop friendly workspace\",\"Pack ’n Play/travel crib\",\"Hot water\",\"Bed linens\",Microwave,\"Coffee maker\",Refrigerator,Dishwasher,\"Dishes and silverware\",\"Cooking basics\",Oven,Stove,\"BBQ grill\",\"Long term stays allowed\"}                                                                                                                                                                                                                                                             34\n",
      "{TV,\"Cable TV\",Internet,Wifi,\"Air conditioning\",\"Wheelchair accessible\",Pool,Kitchen,Gym,Elevator,Heating,\"Family/kid friendly\",\"Suitable for events\",\"Smoke detector\",\"Carbon monoxide detector\",\"First aid kit\",\"Safety card\",\"Fire extinguisher\",Essentials,Shampoo,\"24-hour check-in\",Hangers,\"Hair dryer\",Iron,\"Laptop friendly workspace\",\"Outlet covers\",Bathtub,Crib,\"Room-darkening shades\",\"Game console\"}                                                                                                                                                                                                                                              31\n",
      "                                                                                                                                                                                                                                                                                                                                                                                                                                                                                                                                                                                                                                                                  ..\n",
      "{TV,Wifi,\"Air conditioning\",Pool,Kitchen,\"Free parking on premises\",Gym,Heating,\"Smoke detector\",\"Carbon monoxide detector\",\"Fire extinguisher\",Essentials,Shampoo,Hangers,\"Hair dryer\",Iron}                                                                                                                                                                                                                                                                                                                                                                                                                                                                      1\n",
      "{TV,Wifi,\"Air conditioning\",Kitchen,\"Free parking on premises\",\"Pets allowed\",Heating,\"Family/kid friendly\",Washer,Dryer,\"Smoke detector\",\"Carbon monoxide detector\",\"Fire extinguisher\",Essentials,Shampoo,\"Lock on bedroom door\",Hangers,\"Hair dryer\",\"Laptop friendly workspace\",\"translation missing: en.hosting_amenity_50\"}                                                                                                                                                                                                                                                                                                                                  1\n",
      "{TV,Internet,Wifi,\"Air conditioning\",Pool,Kitchen,\"Free parking on premises\",\"Pets live on this property\",Dog(s),Cat(s),\"Free street parking\",\"Indoor fireplace\",Heating,Washer,Dryer,\"Smoke detector\",\"Carbon monoxide detector\",\"First aid kit\",\"Fire extinguisher\",Essentials,Shampoo,\"Lock on bedroom door\",\"24-hour check-in\",Hangers,\"Hair dryer\",Iron,\"translation missing: en.hosting_amenity_49\",\"translation missing: en.hosting_amenity_50\",\"Self check-in\",\"Smart lock\",\"Hot water\",\"Bed linens\",\"Extra pillows and blankets\",\"Single level home\",\"Patio or balcony\"}                                                                                  1\n",
      "{TV,Internet,Wifi,\"Air conditioning\",Kitchen,\"Free parking on premises\",Heating,Washer,Dryer,\"Smoke detector\",\"Carbon monoxide detector\",\"First aid kit\",\"Safety card\",\"Fire extinguisher\",Essentials,Shampoo,\"24-hour check-in\",Hangers,\"Hair dryer\",Iron,\"Laptop friendly workspace\",\"translation missing: en.hosting_amenity_49\",\"translation missing: en.hosting_amenity_50\",\"Self check-in\",Keypad,\"Private entrance\",\"Pack ’n Play/travel crib\",\"Hot water\",\"Bed linens\",\"Extra pillows and blankets\",Microwave,\"Coffee maker\",Refrigerator,\"Dishes and silverware\",\"Cooking basics\",\"Luggage dropoff allowed\",\"Long term stays allowed\",\"Full kitchen\"}     1\n",
      "{TV,Wifi,\"Air conditioning\",Kitchen,\"Free parking on premises\",Washer,Dryer,\"Smoke detector\",Essentials,Shampoo,\"Hair dryer\",\"translation missing: en.hosting_amenity_49\",\"translation missing: en.hosting_amenity_50\"}                                                                                                                                                                                                                                                                                                                                                                                                                                            1\n",
      "Name: amenities, Length: 10449, dtype: int64\n"
     ]
    }
   ],
   "source": [
    "col_info('amenities')"
   ]
  },
  {
   "cell_type": "code",
   "execution_count": 60,
   "metadata": {},
   "outputs": [
    {
     "data": {
      "text/plain": [
       "{'',\n",
       " '24-hour check-in',\n",
       " 'Accessible-height bed',\n",
       " 'Accessible-height toilet',\n",
       " 'Air conditioning',\n",
       " 'Air hockey table',\n",
       " 'Alfresco bathtub',\n",
       " 'Amazon Echo',\n",
       " 'BBQ grill',\n",
       " 'Baby bath',\n",
       " 'Baby monitor',\n",
       " 'Babysitter recommendations',\n",
       " 'Baking sheet',\n",
       " 'Balcony',\n",
       " 'Bar',\n",
       " 'Barbecue utensils',\n",
       " 'Basketball court',\n",
       " 'Bath towel',\n",
       " 'Bathroom essentials',\n",
       " 'Bathtub',\n",
       " 'Bathtub with bath chair',\n",
       " 'Beach',\n",
       " 'Beach chairs',\n",
       " 'Beach essentials',\n",
       " 'Beach volleyball',\n",
       " 'Beachfront',\n",
       " 'Bed linens',\n",
       " 'Bedroom comforts',\n",
       " 'Bidet',\n",
       " 'Bocce ball court',\n",
       " 'Body soap',\n",
       " 'Bread maker',\n",
       " 'Breakfast',\n",
       " 'Breakfast bar',\n",
       " 'Breakfast table',\n",
       " 'Brick oven',\n",
       " 'Building staff',\n",
       " 'Buzzer/wireless intercom',\n",
       " 'Cable TV',\n",
       " 'Carbon monoxide detector',\n",
       " 'Cat(s)',\n",
       " 'Ceiling fan',\n",
       " 'Ceiling fans',\n",
       " 'Central air conditioning',\n",
       " 'Changing table',\n",
       " 'Charcoal barbeque',\n",
       " 'Children’s books and toys',\n",
       " 'Children’s dinnerware',\n",
       " 'Cleaning before checkout',\n",
       " 'Coffee maker',\n",
       " 'Convection oven',\n",
       " 'Cooking basics',\n",
       " 'Crib',\n",
       " 'DVD player',\n",
       " 'Day bed',\n",
       " 'Dining area',\n",
       " 'Disabled parking spot',\n",
       " 'Dishes and silverware',\n",
       " 'Dishwasher',\n",
       " 'Dock',\n",
       " 'Dog(s)',\n",
       " 'Doorman',\n",
       " 'Double oven',\n",
       " 'Driveway parking',\n",
       " 'Dryer',\n",
       " 'EV charger',\n",
       " 'Electric profiling bed',\n",
       " 'Elevator',\n",
       " 'En suite bathroom',\n",
       " 'Espresso machine',\n",
       " 'Essentials',\n",
       " 'Ethernet connection',\n",
       " 'Exercise equipment',\n",
       " 'Extra pillows and blankets',\n",
       " 'Extra space around bed',\n",
       " 'Family/kid friendly',\n",
       " 'Fax machine',\n",
       " 'Fire extinguisher',\n",
       " 'Fire pit',\n",
       " 'Fireplace guards',\n",
       " 'Firm mattress',\n",
       " 'First aid kit',\n",
       " 'Fixed grab bars for shower',\n",
       " 'Fixed grab bars for toilet',\n",
       " 'Flat path to guest entrance',\n",
       " 'Foosball table',\n",
       " 'Formal dining area',\n",
       " 'Fountain',\n",
       " 'Free parking on premises',\n",
       " 'Free street parking',\n",
       " 'Freezer',\n",
       " 'Full kitchen',\n",
       " 'Game console',\n",
       " 'Game room',\n",
       " 'Garage parking',\n",
       " 'Garden',\n",
       " 'Garden or backyard',\n",
       " 'Gas fireplace',\n",
       " 'Gas oven',\n",
       " 'Gated community',\n",
       " 'Gated property',\n",
       " 'Ground floor access',\n",
       " 'Gym',\n",
       " 'HBO GO',\n",
       " 'Hair dryer',\n",
       " 'Hammock',\n",
       " 'Handheld shower head',\n",
       " 'Hangers',\n",
       " 'Heat lamps',\n",
       " 'Heated floors',\n",
       " 'Heated towel rack',\n",
       " 'Heating',\n",
       " 'High chair',\n",
       " 'High-resolution computer monitor',\n",
       " 'Home theater',\n",
       " 'Host greets you',\n",
       " 'Hot tub',\n",
       " 'Hot water',\n",
       " 'Hot water kettle',\n",
       " 'Ice Machine',\n",
       " 'Indoor fireplace',\n",
       " 'Infinity pool',\n",
       " 'Internet',\n",
       " 'Iron',\n",
       " 'Ironing Board',\n",
       " 'Jetted tub',\n",
       " 'Keypad',\n",
       " 'Kitchen',\n",
       " 'Kitchenette',\n",
       " 'Lake access',\n",
       " 'Lap pool',\n",
       " 'Laptop friendly workspace',\n",
       " 'Lock on bedroom door',\n",
       " 'Lockbox',\n",
       " 'Long term stays allowed',\n",
       " 'Lounge area',\n",
       " 'Lounge chairs',\n",
       " 'Luggage dropoff allowed',\n",
       " 'Massage chair',\n",
       " 'Media room',\n",
       " 'Memory foam mattress',\n",
       " 'Microwave',\n",
       " 'Mini fridge',\n",
       " 'Mobile hoist',\n",
       " 'Mountain view',\n",
       " 'Mudroom',\n",
       " 'Murphy bed',\n",
       " 'Natural gas barbeque',\n",
       " 'Netflix',\n",
       " 'No stairs or steps to enter',\n",
       " 'Office',\n",
       " 'Other',\n",
       " 'Other pet(s)',\n",
       " 'Outdoor kitchen',\n",
       " 'Outdoor parking',\n",
       " 'Outdoor seating',\n",
       " 'Outlet covers',\n",
       " 'Oven',\n",
       " 'Pack ’n Play/travel crib',\n",
       " 'Paid parking off premises',\n",
       " 'Paid parking on premises',\n",
       " 'Parking',\n",
       " 'Patio',\n",
       " 'Patio or balcony',\n",
       " 'Pergola',\n",
       " 'Pets allowed',\n",
       " 'Pets live on this property',\n",
       " 'Piano',\n",
       " 'Pillow-top mattress',\n",
       " 'Ping pong table',\n",
       " 'Plunge pool',\n",
       " 'Pocket wifi',\n",
       " 'Pool',\n",
       " 'Pool bar',\n",
       " 'Pool cover',\n",
       " 'Pool table',\n",
       " 'Pool toys',\n",
       " 'Pool waterslide',\n",
       " 'Pool with pool hoist',\n",
       " 'Printer',\n",
       " 'Private bathroom',\n",
       " 'Private entrance',\n",
       " 'Private hot tub',\n",
       " 'Private living room',\n",
       " 'Private pool',\n",
       " 'Projector and screen',\n",
       " 'Rain shower',\n",
       " 'Refrigerator',\n",
       " 'Room-darkening shades',\n",
       " 'Safe',\n",
       " 'Safety card',\n",
       " 'Satellite TV',\n",
       " 'Sauna',\n",
       " 'Self check-in',\n",
       " 'Shampoo',\n",
       " 'Shared gym',\n",
       " 'Shared hot tub',\n",
       " 'Shared pool',\n",
       " 'Shower chair',\n",
       " 'Shower gel',\n",
       " 'Shuffleboard',\n",
       " 'Single level home',\n",
       " 'Ski-in/Ski-out',\n",
       " 'Smart TV',\n",
       " 'Smart Technology',\n",
       " 'Smart lock',\n",
       " 'Smoke detector',\n",
       " 'Smoking allowed',\n",
       " 'Soaking tub',\n",
       " 'Sound system',\n",
       " 'Stair gates',\n",
       " 'Stand alone steam shower',\n",
       " 'Standing valet',\n",
       " 'Steam oven',\n",
       " 'Step-free shower',\n",
       " 'Stove',\n",
       " 'Streaming Services',\n",
       " 'Suitable for events',\n",
       " 'Sun deck',\n",
       " 'Sun loungers',\n",
       " 'Swimming pool',\n",
       " 'TV',\n",
       " 'Table corner guards',\n",
       " 'Tennis court',\n",
       " 'Terrace',\n",
       " 'Toilet paper',\n",
       " 'Touchless faucets',\n",
       " 'Trash can',\n",
       " 'Video Games',\n",
       " 'Walk-in shower',\n",
       " 'Warming drawer',\n",
       " 'Washer',\n",
       " 'Washer/Dryer',\n",
       " 'Waterfront',\n",
       " 'Well-lit path to entrance',\n",
       " 'Wet bar',\n",
       " 'Wheelchair accessible',\n",
       " 'Wide clearance to shower',\n",
       " 'Wide doorway to guest bathroom',\n",
       " 'Wide entrance',\n",
       " 'Wide entrance for guests',\n",
       " 'Wide entryway',\n",
       " 'Wide hallways',\n",
       " 'Wifi',\n",
       " 'Window guards',\n",
       " 'Wine cooler',\n",
       " 'Wood-burning fireplace',\n",
       " 'Yoga studio',\n",
       " 'toilet',\n",
       " 'translation missing: en.hosting_amenity_49',\n",
       " 'translation missing: en.hosting_amenity_50'}"
      ]
     },
     "execution_count": 60,
     "metadata": {},
     "output_type": "execute_result"
    }
   ],
   "source": [
    "amenity_replace_dict = {'}':',', '{':'', '\"':''}\n",
    "\n",
    "# Creating a set of all possible amenities\n",
    "amenities_list = list(df.amenities)\n",
    "amenities_list_string = \" \".join(amenities_list)\n",
    "\n",
    "for x, y in amenity_replace_dict.items():\n",
    "    amenities_list_string = amenities_list_string.replace(x, y)\n",
    "    \n",
    "amenities_set = [x.strip() for x in amenities_list_string.split(',')]\n",
    "amenities_set = set(amenities_set)\n",
    "amenities_set\n"
   ]
  },
  {
   "cell_type": "markdown",
   "metadata": {},
   "source": [
    "**price**"
   ]
  },
  {
   "cell_type": "code",
   "execution_count": 61,
   "metadata": {},
   "outputs": [
    {
     "name": "stdout",
     "output_type": "stream",
     "text": [
      "Column Name\n",
      "price\n",
      "\n",
      "Data Type: object\n",
      "Number of Unique Values: 690\n",
      "Missing Data: 0.0%\n",
      "\n",
      "Value Counts\n",
      "$150.00      380\n",
      "$100.00      335\n",
      "$200.00      301\n",
      "$250.00      263\n",
      "$75.00       261\n",
      "            ... \n",
      "$1,780.00      1\n",
      "$5.00          1\n",
      "$984.00        1\n",
      "$765.00        1\n",
      "$3,079.00      1\n",
      "Name: price, Length: 690, dtype: int64\n"
     ]
    }
   ],
   "source": [
    "col_info('price')"
   ]
  },
  {
   "cell_type": "code",
   "execution_count": 62,
   "metadata": {},
   "outputs": [],
   "source": [
    "#converting strings representing price of listign to integers\n",
    "df.price = df.price.str[1:-3]\n",
    "df.price = df.price.str.replace(\",\",\"\")\n",
    "df.price = df.price.astype('int64')"
   ]
  },
  {
   "cell_type": "markdown",
   "metadata": {},
   "source": [
    "**security_deposit**"
   ]
  },
  {
   "cell_type": "code",
   "execution_count": 63,
   "metadata": {},
   "outputs": [
    {
     "name": "stdout",
     "output_type": "stream",
     "text": [
      "Column Name\n",
      "security_deposit\n",
      "\n",
      "Data Type: object\n",
      "Number of Unique Values: 104\n",
      "Missing Data: 27.0%\n",
      "\n",
      "Value Counts\n",
      "$0.00        3323\n",
      "NaN          3059\n",
      "$500.00       885\n",
      "$100.00       829\n",
      "$200.00       825\n",
      "             ... \n",
      "$625.00         1\n",
      "$190.00         1\n",
      "$180.00         1\n",
      "$1,960.00       1\n",
      "$349.00         1\n",
      "Name: security_deposit, Length: 105, dtype: int64\n"
     ]
    }
   ],
   "source": [
    "col_info('security_deposit')"
   ]
  },
  {
   "cell_type": "code",
   "execution_count": 64,
   "metadata": {},
   "outputs": [],
   "source": [
    "#converting strings representing price of security deposit to integers\n",
    "#replacing NaN with 0\n",
    "df.security_deposit = df.security_deposit.str[1:-3]\n",
    "df.security_deposit = df.security_deposit.str.replace(\",\",\"\")\n",
    "df.security_deposit = df.security_deposit.fillna(0)\n",
    "df.security_deposit = df.security_deposit.astype('int64')"
   ]
  },
  {
   "cell_type": "markdown",
   "metadata": {},
   "source": [
    "**cleaning_fee**"
   ]
  },
  {
   "cell_type": "code",
   "execution_count": 65,
   "metadata": {},
   "outputs": [
    {
     "name": "stdout",
     "output_type": "stream",
     "text": [
      "Column Name\n",
      "cleaning_fee\n",
      "\n",
      "Data Type: object\n",
      "Number of Unique Values: 265\n",
      "Missing Data: 18.0%\n",
      "\n",
      "Value Counts\n",
      "NaN        2033\n",
      "$100.00     823\n",
      "$50.00      790\n",
      "$0.00       602\n",
      "$75.00      567\n",
      "           ... \n",
      "$52.00        1\n",
      "$38.00        1\n",
      "$131.00       1\n",
      "$492.00       1\n",
      "$578.00       1\n",
      "Name: cleaning_fee, Length: 266, dtype: int64\n"
     ]
    }
   ],
   "source": [
    "col_info('cleaning_fee')"
   ]
  },
  {
   "cell_type": "code",
   "execution_count": 66,
   "metadata": {},
   "outputs": [],
   "source": [
    "#converting strings to integers\n",
    "#replacing NaN with 0\n",
    "df.cleaning_fee = df.cleaning_fee.str[1:-3]\n",
    "df.cleaning_fee = df.cleaning_fee.str.replace(\",\",\"\")\n",
    "df.cleaning_fee = df.cleaning_fee.fillna(0)\n",
    "df.cleaning_fee = df.cleaning_fee.astype('int64')"
   ]
  },
  {
   "cell_type": "markdown",
   "metadata": {},
   "source": [
    "**extra_people**"
   ]
  },
  {
   "cell_type": "code",
   "execution_count": 67,
   "metadata": {},
   "outputs": [
    {
     "name": "stdout",
     "output_type": "stream",
     "text": [
      "Column Name\n",
      "extra_people\n",
      "\n",
      "Data Type: object\n",
      "Number of Unique Values: 73\n",
      "Missing Data: 0.0%\n",
      "\n",
      "Value Counts\n",
      "$0.00      6861\n",
      "$25.00      864\n",
      "$10.00      674\n",
      "$50.00      632\n",
      "$20.00      552\n",
      "           ... \n",
      "$57.00        1\n",
      "$41.00        1\n",
      "$42.00        1\n",
      "$110.00       1\n",
      "$32.00        1\n",
      "Name: extra_people, Length: 73, dtype: int64\n"
     ]
    }
   ],
   "source": [
    "col_info('extra_people')"
   ]
  },
  {
   "cell_type": "code",
   "execution_count": 68,
   "metadata": {},
   "outputs": [],
   "source": [
    "#converting strings to integers\n",
    "df.extra_people = df.extra_people.str[1:-3]\n",
    "df.extra_people = df.extra_people.str.replace(\",\",\"\")\n",
    "df.extra_people = df.extra_people.astype('int64')"
   ]
  },
  {
   "cell_type": "markdown",
   "metadata": {},
   "source": [
    "**minimum_nights**"
   ]
  },
  {
   "cell_type": "code",
   "execution_count": 72,
   "metadata": {
    "scrolled": true
   },
   "outputs": [
    {
     "name": "stdout",
     "output_type": "stream",
     "text": [
      "Column Name\n",
      "minimum_nights\n",
      "\n",
      "Data Type: int64\n",
      "Number of Unique Values: 49\n",
      "Missing Data: 0.0%\n",
      "\n",
      "Value Counts\n",
      "1      4343\n",
      "2      4316\n",
      "3      1263\n",
      "30      634\n",
      "4       264\n",
      "5       173\n",
      "7       101\n",
      "29       72\n",
      "31       58\n",
      "28       43\n",
      "99       30\n",
      "6        28\n",
      "60       28\n",
      "14       26\n",
      "90       21\n",
      "10       15\n",
      "21       14\n",
      "180      13\n",
      "20       11\n",
      "25        7\n",
      "100       5\n",
      "8         5\n",
      "45        4\n",
      "360       4\n",
      "15        4\n",
      "9         4\n",
      "150       4\n",
      "365       3\n",
      "32        3\n",
      "27        3\n",
      "350       3\n",
      "18        1\n",
      "40        1\n",
      "120       1\n",
      "168       1\n",
      "38        1\n",
      "76        1\n",
      "26        1\n",
      "140       1\n",
      "186       1\n",
      "93        1\n",
      "19        1\n",
      "43        1\n",
      "75        1\n",
      "83        1\n",
      "500       1\n",
      "300       1\n",
      "175       1\n",
      "183       1\n",
      "Name: minimum_nights, dtype: int64\n"
     ]
    }
   ],
   "source": [
    "col_info('minimum_nights')"
   ]
  },
  {
   "cell_type": "markdown",
   "metadata": {},
   "source": [
    "**maximum_nights**"
   ]
  },
  {
   "cell_type": "code",
   "execution_count": 77,
   "metadata": {},
   "outputs": [
    {
     "name": "stdout",
     "output_type": "stream",
     "text": [
      "Column Name\n",
      "maximum_nights\n",
      "\n",
      "Data Type: int64\n",
      "Number of Unique Values: 145\n",
      "Missing Data: 0.0%\n",
      "\n",
      "Value Counts\n",
      "1125    5829\n",
      "30       621\n",
      "365      591\n",
      "14       545\n",
      "7        518\n",
      "        ... \n",
      "1122       1\n",
      "650        1\n",
      "290        1\n",
      "66         1\n",
      "451        1\n",
      "Name: maximum_nights, Length: 145, dtype: int64\n"
     ]
    }
   ],
   "source": [
    "col_info('maximum_nights')"
   ]
  },
  {
   "cell_type": "markdown",
   "metadata": {},
   "source": [
    "**calendar_updated**"
   ]
  },
  {
   "cell_type": "code",
   "execution_count": 69,
   "metadata": {},
   "outputs": [
    {
     "name": "stdout",
     "output_type": "stream",
     "text": [
      "Column Name\n",
      "calendar_updated\n",
      "\n",
      "Data Type: object\n",
      "Number of Unique Values: 95\n",
      "Missing Data: 0.0%\n",
      "\n",
      "Value Counts\n",
      "today            2055\n",
      "a week ago        883\n",
      "2 weeks ago       758\n",
      "yesterday         566\n",
      "3 weeks ago       468\n",
      "                 ... \n",
      "93 months ago       1\n",
      "84 months ago       1\n",
      "69 months ago       1\n",
      "99 months ago       1\n",
      "70 months ago       1\n",
      "Name: calendar_updated, Length: 95, dtype: int64\n"
     ]
    }
   ],
   "source": [
    "col_info('calendar_updated')"
   ]
  },
  {
   "cell_type": "markdown",
   "metadata": {},
   "source": [
    "This columns is not very descriptive, and I believe it will not have a large impact on the the price point of the rental listing."
   ]
  },
  {
   "cell_type": "code",
   "execution_count": 70,
   "metadata": {},
   "outputs": [],
   "source": [
    "df.drop('calendar_updated', axis=1, inplace=True)"
   ]
  },
  {
   "cell_type": "markdown",
   "metadata": {},
   "source": [
    "**availability_30**"
   ]
  },
  {
   "cell_type": "code",
   "execution_count": 78,
   "metadata": {},
   "outputs": [
    {
     "name": "stdout",
     "output_type": "stream",
     "text": [
      "Column Name\n",
      "availability_30\n",
      "\n",
      "Data Type: int64\n",
      "Number of Unique Values: 31\n",
      "Missing Data: 0.0%\n",
      "\n",
      "Value Counts\n",
      "0     4235\n",
      "30     517\n",
      "8      336\n",
      "7      319\n",
      "9      296\n",
      "11     296\n",
      "6      288\n",
      "13     285\n",
      "10     274\n",
      "4      263\n",
      "5      262\n",
      "3      260\n",
      "29     252\n",
      "12     247\n",
      "19     247\n",
      "15     243\n",
      "1      240\n",
      "14     239\n",
      "16     232\n",
      "20     228\n",
      "17     222\n",
      "18     209\n",
      "2      208\n",
      "28     194\n",
      "21     193\n",
      "23     191\n",
      "22     190\n",
      "24     156\n",
      "25     140\n",
      "26     130\n",
      "27     128\n",
      "Name: availability_30, dtype: int64\n"
     ]
    }
   ],
   "source": [
    "col_info('availability_30')"
   ]
  },
  {
   "cell_type": "markdown",
   "metadata": {},
   "source": [
    "**availability_60**"
   ]
  },
  {
   "cell_type": "code",
   "execution_count": 79,
   "metadata": {},
   "outputs": [
    {
     "name": "stdout",
     "output_type": "stream",
     "text": [
      "Column Name\n",
      "availability_60\n",
      "\n",
      "Data Type: int64\n",
      "Number of Unique Values: 61\n",
      "Missing Data: 0.0%\n",
      "\n",
      "Value Counts\n",
      "0     3718\n",
      "60     467\n",
      "59     222\n",
      "33     171\n",
      "18     170\n",
      "      ... \n",
      "2       89\n",
      "7       85\n",
      "55      80\n",
      "54      74\n",
      "51      66\n",
      "Name: availability_60, Length: 61, dtype: int64\n"
     ]
    }
   ],
   "source": [
    "col_info('availability_60')"
   ]
  },
  {
   "cell_type": "markdown",
   "metadata": {},
   "source": [
    "**availability_90**"
   ]
  },
  {
   "cell_type": "code",
   "execution_count": 81,
   "metadata": {},
   "outputs": [
    {
     "name": "stdout",
     "output_type": "stream",
     "text": [
      "Column Name\n",
      "availability_90\n",
      "\n",
      "Data Type: int64\n",
      "Number of Unique Values: 91\n",
      "Missing Data: 0.0%\n",
      "\n",
      "Value Counts\n",
      "0     3522\n",
      "90     452\n",
      "89     219\n",
      "88     153\n",
      "59     138\n",
      "      ... \n",
      "14      54\n",
      "25      51\n",
      "29      47\n",
      "23      46\n",
      "7       44\n",
      "Name: availability_90, Length: 91, dtype: int64\n"
     ]
    }
   ],
   "source": [
    "col_info('availability_90')"
   ]
  },
  {
   "cell_type": "markdown",
   "metadata": {},
   "source": [
    "**availability_365**"
   ]
  },
  {
   "cell_type": "code",
   "execution_count": 82,
   "metadata": {},
   "outputs": [
    {
     "name": "stdout",
     "output_type": "stream",
     "text": [
      "Column Name\n",
      "availability_365\n",
      "\n",
      "Data Type: int64\n",
      "Number of Unique Values: 366\n",
      "Missing Data: 0.0%\n",
      "\n",
      "Value Counts\n",
      "0      3204\n",
      "365     287\n",
      "364      94\n",
      "90       76\n",
      "89       73\n",
      "       ... \n",
      "272       4\n",
      "212       3\n",
      "214       3\n",
      "204       3\n",
      "190       2\n",
      "Name: availability_365, Length: 366, dtype: int64\n"
     ]
    }
   ],
   "source": [
    "col_info('availability_365')"
   ]
  },
  {
   "cell_type": "markdown",
   "metadata": {},
   "source": [
    "**number_of_reviews**"
   ]
  },
  {
   "cell_type": "code",
   "execution_count": 83,
   "metadata": {},
   "outputs": [
    {
     "name": "stdout",
     "output_type": "stream",
     "text": [
      "Column Name\n",
      "number_of_reviews\n",
      "\n",
      "Data Type: int64\n",
      "Number of Unique Values: 371\n",
      "Missing Data: 0.0%\n",
      "\n",
      "Value Counts\n",
      "0      2467\n",
      "1       990\n",
      "2       679\n",
      "3       501\n",
      "4       375\n",
      "       ... \n",
      "522       1\n",
      "490       1\n",
      "442       1\n",
      "426       1\n",
      "443       1\n",
      "Name: number_of_reviews, Length: 371, dtype: int64\n"
     ]
    }
   ],
   "source": [
    "col_info('number_of_reviews')"
   ]
  },
  {
   "cell_type": "code",
   "execution_count": 87,
   "metadata": {},
   "outputs": [
    {
     "data": {
      "text/plain": [
       "<matplotlib.axes._subplots.AxesSubplot at 0x1df5fb186c8>"
      ]
     },
     "execution_count": 87,
     "metadata": {},
     "output_type": "execute_result"
    },
    {
     "data": {
      "image/png": "[encoded data removed]",
      "text/plain": [
       "<Figure size 864x576 with 1 Axes>"
      ]
     },
     "metadata": {
      "needs_background": "light"
     },
     "output_type": "display_data"
    }
   ],
   "source": [
    "df.number_of_reviews.hist(bins=100)"
   ]
  },
  {
   "cell_type": "markdown",
   "metadata": {},
   "source": [
    "**number_of_reviews_ltm**"
   ]
  },
  {
   "cell_type": "code",
   "execution_count": 88,
   "metadata": {},
   "outputs": [
    {
     "name": "stdout",
     "output_type": "stream",
     "text": [
      "Column Name\n",
      "number_of_reviews_ltm\n",
      "\n",
      "Data Type: int64\n",
      "Number of Unique Values: 142\n",
      "Missing Data: 0.0%\n",
      "\n",
      "Value Counts\n",
      "0      4269\n",
      "1       820\n",
      "2       598\n",
      "3       464\n",
      "4       349\n",
      "       ... \n",
      "394       1\n",
      "386       1\n",
      "122       1\n",
      "137       1\n",
      "631       1\n",
      "Name: number_of_reviews_ltm, Length: 142, dtype: int64\n"
     ]
    }
   ],
   "source": [
    "col_info('number_of_reviews_ltm')"
   ]
  },
  {
   "cell_type": "code",
   "execution_count": null,
   "metadata": {},
   "outputs": [],
   "source": []
  }
 ],
 "metadata": {
  "kernelspec": {
   "display_name": "Python 3",
   "language": "python",
   "name": "python3"
  },
  "language_info": {
   "codemirror_mode": {
    "name": "ipython",
    "version": 3
   },
   "file_extension": ".py",
   "mimetype": "text/x-python",
   "name": "python",
   "nbconvert_exporter": "python",
   "pygments_lexer": "ipython3",
   "version": "3.7.4"
  }
 },
 "nbformat": 4,
 "nbformat_minor": 4
}
